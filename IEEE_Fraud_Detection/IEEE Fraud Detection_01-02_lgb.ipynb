{
 "cells": [
  {
   "cell_type": "markdown",
   "metadata": {},
   "source": [
    "# setteing"
   ]
  },
  {
   "cell_type": "code",
   "execution_count": 1,
   "metadata": {
    "ExecuteTime": {
     "end_time": "2019-10-02T12:37:54.285041Z",
     "start_time": "2019-10-02T12:37:19.535177Z"
    },
    "_cell_guid": "79c7e3d0-c299-4dcb-8224-4455121ee9b0",
    "_uuid": "d629ff2d2480ee46fbb7e2d37f6b5fab8052498a"
   },
   "outputs": [],
   "source": [
    "%matplotlib inline \n",
    "\n",
    "import gc\n",
    "import json\n",
    "import requests\n",
    "import datetime\n",
    "\n",
    "import numpy as np\n",
    "import pandas as pd\n",
    "import matplotlib.pyplot as plt\n",
    "import seaborn as sns\n",
    "\n",
    "import category_encoders as ce\n",
    "\n",
    "from sklearn.model_selection import train_test_split\n",
    "from sklearn.model_selection import StratifiedShuffleSplit\n",
    "import lightgbm as lgb\n",
    "import optuna\n",
    "\n",
    "from sklearn.metrics import roc_curve\n",
    "from sklearn.metrics import auc\n",
    "from sklearn.model_selection import learning_curve\n",
    "from sklearn.metrics import precision_recall_curve\n",
    "from sklearn.metrics import confusion_matrix\n",
    "\n",
    "from sklearn.inspection import partial_dependence\n",
    "import shap"
   ]
  },
  {
   "cell_type": "markdown",
   "metadata": {},
   "source": [
    "# dataset"
   ]
  },
  {
   "cell_type": "code",
   "execution_count": null,
   "metadata": {
    "ExecuteTime": {
     "start_time": "2019-10-02T12:37:19.545Z"
    }
   },
   "outputs": [],
   "source": [
    "df_transaction_train = pd.read_csv(\"../input/ieee-fraud-detection/train_transaction.csv\")\n",
    "df_identity_train = pd.read_csv(\"../input/ieee-fraud-detection/train_identity.csv\")\n",
    "df_identity_train[\"specifyIdentity\"] = 1\n",
    "df_train = pd.merge(df_transaction_train, df_identity_train, how='left', on=\"TransactionID\")\n",
    "df_train[\"isTest\"] = 0\n",
    "df_train[\"specifyIdentity\"] = df_train[\"specifyIdentity\"].fillna(0) \n",
    "df_train.describe()"
   ]
  },
  {
   "cell_type": "code",
   "execution_count": null,
   "metadata": {
    "ExecuteTime": {
     "start_time": "2019-10-02T12:37:19.555Z"
    }
   },
   "outputs": [],
   "source": [
    "df_transaction_test = pd.read_csv(\"../input/ieee-fraud-detection/test_transaction.csv\")\n",
    "df_identity_test = pd.read_csv(\"../input/ieee-fraud-detection/test_identity.csv\")\n",
    "df_identity_test[\"specifyIdentity\"] = 1\n",
    "df_test = pd.merge(df_transaction_test, df_identity_test, how='left', on=\"TransactionID\")\n",
    "df_test[\"isTest\"] = 1\n",
    "df_test[\"specifyIdentity\"] = df_test[\"specifyIdentity\"].fillna(0)\n",
    "df_test.describe()"
   ]
  },
  {
   "cell_type": "code",
   "execution_count": null,
   "metadata": {
    "ExecuteTime": {
     "start_time": "2019-10-02T12:37:19.561Z"
    }
   },
   "outputs": [],
   "source": [
    "del df_transaction_train\n",
    "del df_identity_train\n",
    "del df_transaction_test\n",
    "del df_identity_test\n",
    "\n",
    "gc.collect()"
   ]
  },
  {
   "cell_type": "code",
   "execution_count": null,
   "metadata": {
    "ExecuteTime": {
     "start_time": "2019-10-02T12:37:19.572Z"
    }
   },
   "outputs": [],
   "source": [
    "df = pd.concat([df_train, df_test]).reset_index(drop=True)\n",
    "df.describe()"
   ]
  },
  {
   "cell_type": "code",
   "execution_count": null,
   "metadata": {
    "ExecuteTime": {
     "start_time": "2019-10-02T12:37:19.578Z"
    }
   },
   "outputs": [],
   "source": [
    "list_col_constant_val_train = [col for col in df_train.columns if len(df_train[col].unique()) == 1]\n",
    "list_col_constant_val_train"
   ]
  },
  {
   "cell_type": "code",
   "execution_count": null,
   "metadata": {
    "ExecuteTime": {
     "start_time": "2019-10-02T12:37:19.585Z"
    }
   },
   "outputs": [],
   "source": [
    "del df_train\n",
    "del df_test\n",
    "\n",
    "gc.collect()"
   ]
  },
  {
   "cell_type": "markdown",
   "metadata": {},
   "source": [
    "# preprocessing"
   ]
  },
  {
   "cell_type": "code",
   "execution_count": null,
   "metadata": {
    "ExecuteTime": {
     "start_time": "2019-10-02T12:37:19.593Z"
    }
   },
   "outputs": [],
   "source": [
    "list_col_constant_val = [col for col in df.columns if len(df[col].unique()) == 1]\n",
    "list_col_constant_val"
   ]
  },
  {
   "cell_type": "code",
   "execution_count": null,
   "metadata": {
    "ExecuteTime": {
     "start_time": "2019-10-02T12:37:19.598Z"
    }
   },
   "outputs": [],
   "source": [
    "df = df.drop(columns=list_col_constant_val)"
   ]
  },
  {
   "cell_type": "code",
   "execution_count": null,
   "metadata": {
    "ExecuteTime": {
     "start_time": "2019-10-02T12:37:19.604Z"
    }
   },
   "outputs": [],
   "source": [
    "df[\"input_rate\"] = 1 - df.isna().sum(axis=1) / len(df.columns)\n",
    "df[\"input_rate\"].describe()"
   ]
  },
  {
   "cell_type": "code",
   "execution_count": null,
   "metadata": {
    "ExecuteTime": {
     "start_time": "2019-10-02T12:37:19.609Z"
    }
   },
   "outputs": [],
   "source": [
    "# https://www.kaggle.com/danofer/ieee-fraud-features-xgboost-0-934-lb\n",
    "\n",
    "START_DATE = \"2017-12-01\"\n",
    "startdate = datetime.datetime.strptime(START_DATE, '%Y-%m-%d')\n",
    "df[\"TransactionDT\"] = df[\"TransactionDT\"].apply(lambda x: (startdate + datetime.timedelta(seconds = x)))\n",
    "\n",
    "# df[\"month\"] = df[\"TransactionDT\"].dt.month\n",
    "df[\"TransactionDT_dow\"] = df[\"TransactionDT\"].dt.dayofweek\n",
    "df[\"TransactionDT_hour\"] = df[\"TransactionDT\"].dt.hour\n",
    "df[\"TransactionDT_day\"] = df[\"TransactionDT\"].dt.day\n",
    "df[\"TransactionDT_part_of_month\"] = [ \"head\" if day < 10 else \"middle\" if day < 20 else \"tail\" for day in df[\"TransactionDT_day\"]]\n",
    "\n",
    "#  df.drop([\"TransactionDT\"],axis=1,inplace=True)"
   ]
  },
  {
   "cell_type": "code",
   "execution_count": null,
   "metadata": {
    "ExecuteTime": {
     "start_time": "2019-10-02T12:37:19.614Z"
    }
   },
   "outputs": [],
   "source": [
    "# #https://www.kaggle.com/c/ieee-fraud-detection/discussion/100499#latest-579654\n",
    "dict_emails = {'gmail': 'google', 'att.net': 'att', 'twc.com': 'spectrum', 'scranton.edu': 'other', 'optonline.net': 'other', 'hotmail.co.uk': 'microsoft', 'comcast.net': 'other', 'yahoo.com.mx': 'yahoo', 'yahoo.fr': 'yahoo', 'yahoo.es': 'yahoo', 'charter.net': 'spectrum', 'live.com': 'microsoft', 'aim.com': 'aol', 'hotmail.de': 'microsoft', 'centurylink.net': 'centurylink', 'gmail.com': 'google', 'me.com': 'apple', 'earthlink.net': 'other', 'gmx.de': 'other', 'web.de': 'other', 'cfl.rr.com': 'other', 'hotmail.com': 'microsoft', 'protonmail.com': 'other', 'hotmail.fr': 'microsoft', 'windstream.net': 'other', 'outlook.es': 'microsoft', 'yahoo.co.jp': 'yahoo', 'yahoo.de': 'yahoo', 'servicios-ta.com': 'other', 'netzero.net': 'other', 'suddenlink.net': 'other', 'roadrunner.com': 'other', 'sc.rr.com': 'other', 'live.fr': 'microsoft', 'verizon.net': 'yahoo', 'msn.com': 'microsoft', 'q.com': 'centurylink', 'prodigy.net.mx': 'att', 'frontier.com': 'yahoo', 'anonymous.com': 'other', 'rocketmail.com': 'yahoo', 'sbcglobal.net': 'att', 'frontiernet.net': 'yahoo', 'ymail.com': 'yahoo', 'outlook.com': 'microsoft', 'mail.com': 'other', 'bellsouth.net': 'other', 'embarqmail.com': 'centurylink', 'cableone.net': 'other', 'hotmail.es': 'microsoft', 'mac.com': 'apple', 'yahoo.co.uk': 'yahoo', 'netzero.com': 'other', 'yahoo.com': 'yahoo', 'live.com.mx': 'microsoft', 'ptd.net': 'other', 'cox.net': 'other', 'aol.com': 'aol', 'juno.com': 'other', 'icloud.com': 'apple'}\n",
    "list_us_emails = ['gmail', 'net', 'edu']\n",
    "\n",
    "for col in ['P_emaildomain', 'R_emaildomain']:\n",
    "    df[col + '_bin'] = df[col].map(dict_emails)\n",
    "    df[col + '_suffix'] = df[col].map(lambda x: str(x).split('.')[-1])\n",
    "    df[col + '_suffix'] = df[col + '_suffix'].map(lambda x: x if str(x) not in list_us_emails else 'us')"
   ]
  },
  {
   "cell_type": "code",
   "execution_count": null,
   "metadata": {
    "ExecuteTime": {
     "start_time": "2019-10-02T12:37:19.619Z"
    }
   },
   "outputs": [],
   "source": [
    "list_categorical_feature = [\"ProductCD\", \"card1\", \"card2\", \"card3\", \"card4\", \"card5\", \"card6\", \"addr1\", \"addr2\", \"P_emaildomain\", \"R_emaildomain\", \"M1\", \"M2\", \"M3\", \"M4\", \"M5\", \"M6\", \"M7\", \"M8\", \"M9\", \"DeviceType\", \"DeviceInfo\", \"id_12\", \"id_13\", \"id_14\", \"id_15\", \"id_16\", \"id_17\", \"id_18\", \"id_19\", \"id_20\", \"id_21\", \"id_22\", \"id_23\", \"id_24\", \"id_25\", \"id_26\", \"id_27\", \"id_28\", \"id_29\", \"id_30\", \"id_31\", \"id_32\", \"id_33\", \"id_34\", \"id_35\", \"id_36\", \"id_37\", \"id_38\"]"
   ]
  },
  {
   "cell_type": "code",
   "execution_count": null,
   "metadata": {
    "ExecuteTime": {
     "start_time": "2019-10-02T12:37:19.624Z"
    }
   },
   "outputs": [],
   "source": [
    "list_categorical_feature.extend([\"TransactionDT_dow\", \"TransactionDT_hour\", \"TransactionDT_day\", \"TransactionDT_part_of_month\", \"P_emaildomain_bin\", \"P_emaildomain_suffix\", \"R_emaildomain_bin\", \"R_emaildomain_suffix\"])"
   ]
  },
  {
   "cell_type": "code",
   "execution_count": null,
   "metadata": {
    "ExecuteTime": {
     "start_time": "2019-10-02T12:37:19.633Z"
    }
   },
   "outputs": [],
   "source": [
    "for col in list_categorical_feature:\n",
    "    df[col] = df[col].astype('category')\n",
    "    df[col] = df[col].cat.codes"
   ]
  },
  {
   "cell_type": "markdown",
   "metadata": {},
   "source": [
    "# modeling"
   ]
  },
  {
   "cell_type": "code",
   "execution_count": null,
   "metadata": {
    "ExecuteTime": {
     "start_time": "2019-10-02T12:37:19.639Z"
    }
   },
   "outputs": [],
   "source": [
    "X_train = df.query('isTest == 0').drop(columns=[\"TransactionDT\", \"isFraud\"])\n",
    "y_train = df.query('isTest == 0')[\"isFraud\"]"
   ]
  },
  {
   "cell_type": "code",
   "execution_count": null,
   "metadata": {
    "ExecuteTime": {
     "start_time": "2019-10-02T12:37:19.646Z"
    }
   },
   "outputs": [],
   "source": [
    "X_train, X_valid, y_train, y_valid = train_test_split(X_train, y_train, train_size=0.8, random_state=175, shuffle=True, stratify=y_train)"
   ]
  },
  {
   "cell_type": "code",
   "execution_count": null,
   "metadata": {
    "ExecuteTime": {
     "start_time": "2019-10-02T12:37:19.651Z"
    }
   },
   "outputs": [],
   "source": [
    "key_train = X_train[\"TransactionID\"]\n",
    "X_train = X_train.drop(columns=[\"TransactionID\"])\n",
    "key_valid = X_valid[\"TransactionID\"]\n",
    "X_valid = X_valid.drop(columns=[\"TransactionID\"])\n",
    "\n",
    "X_test = df.query('isTest == 1').drop(columns=[\"TransactionDT\", \"isFraud\"])\n",
    "key_test = X_test[\"TransactionID\"]\n",
    "X_test = X_test.drop(columns=[\"TransactionID\"])"
   ]
  },
  {
   "cell_type": "code",
   "execution_count": null,
   "metadata": {
    "ExecuteTime": {
     "start_time": "2019-10-02T12:37:19.658Z"
    }
   },
   "outputs": [],
   "source": [
    "X_train = X_train.drop(columns=[\"isTest\"])\n",
    "X_valid = X_valid.drop(columns=[\"isTest\"])\n",
    "X_test = X_test.drop(columns=[\"isTest\"])"
   ]
  },
  {
   "cell_type": "code",
   "execution_count": null,
   "metadata": {
    "ExecuteTime": {
     "start_time": "2019-10-02T12:37:19.665Z"
    }
   },
   "outputs": [],
   "source": [
    "train_data = lgb.Dataset(X_train, label=y_train, categorical_feature=list_categorical_feature, free_raw_data=False)\n",
    "eval_data = lgb.Dataset(X_valid, label=y_valid, reference= train_data, categorical_feature=list_categorical_feature, free_raw_data=False)\n"
   ]
  },
  {
   "cell_type": "code",
   "execution_count": null,
   "metadata": {
    "ExecuteTime": {
     "start_time": "2019-10-02T12:37:19.670Z"
    }
   },
   "outputs": [],
   "source": [
    "y_train.value_counts()"
   ]
  },
  {
   "cell_type": "code",
   "execution_count": null,
   "metadata": {
    "ExecuteTime": {
     "start_time": "2019-10-02T12:37:19.675Z"
    }
   },
   "outputs": [],
   "source": [
    "y_train.value_counts()[0]"
   ]
  },
  {
   "cell_type": "code",
   "execution_count": null,
   "metadata": {
    "ExecuteTime": {
     "start_time": "2019-10-02T12:37:19.680Z"
    }
   },
   "outputs": [],
   "source": [
    "neg_pos_ratio = y_train.value_counts()[0] / y_train.value_counts()[1]\n",
    "neg_pos_ratio"
   ]
  },
  {
   "cell_type": "code",
   "execution_count": null,
   "metadata": {
    "ExecuteTime": {
     "start_time": "2019-10-02T12:37:19.685Z"
    }
   },
   "outputs": [],
   "source": [
    "# def objective(trial):\n",
    "#     params = {\n",
    "#         'boosting': 'gbdt', \n",
    "#         'objective': 'binary', \n",
    "#         'metric':'auc', \n",
    "#         'seed': 175, \n",
    "# #         'max_depth': trial.suggest_int('max_depth', 3, 10), \n",
    "#         'num_leaves': 127, \n",
    "#         'learning_rate': trial.suggest_loguniform('learning_rate', 1e-8, 1.0), \n",
    "# #         'bagging_fraction': trial.suggest_uniform('bagging_fraction', 0.5, 1.0), \n",
    "#         'pos_bagging_fraction': 1,\n",
    "#         'neg_bagging_fraction': 1 / neg_pos_ratio, \n",
    "#         'bagging_freq': 1, \n",
    "# #         'feature_fraction': trial.suggest_uniform('feature_fraction', 0.5, 1.0)\n",
    "#         'lambda_l1': trial.suggest_loguniform('lambda_l1', 1e-3, 1e3), \n",
    "#         'lambda_l2': trial.suggest_loguniform('lambda_l2', 1e-3, 1e3)\n",
    "#     }\n",
    "    \n",
    "#     gbm = lgb.train(\n",
    "#         params,\n",
    "#         train_data,\n",
    "#         valid_sets=[train_data, eval_data],\n",
    "#         valid_names=['Train', 'Eval'],\n",
    "#         num_boost_round=10000,\n",
    "#         early_stopping_rounds=100, \n",
    "#         verbose_eval=20\n",
    "#     )\n",
    "#     y_pred_prob = gbm.predict(X_valid)\n",
    "#     fpr, tpr, thresholds = roc_curve(y_valid, y_pred_prob, pos_label=1)\n",
    "#     score = auc(fpr, tpr)\n",
    "#     return score * -1\n",
    "\n",
    "# study = optuna.create_study(direction='maximize')\n",
    "# study.optimize(objective, n_trials=30)\n",
    "\n",
    "# print('Number of finished trials: {}'.format(len(study.trials)))\n",
    "\n",
    "# print('Best trial:')\n",
    "# trial = study.best_trial\n",
    "\n",
    "# print('  Value: {}'.format(trial.value))\n",
    "\n",
    "# print('  Params: ')\n",
    "# for key, value in trial.params.items():\n",
    "#     print('    {}: {}'.format(key, value))"
   ]
  },
  {
   "cell_type": "code",
   "execution_count": null,
   "metadata": {
    "ExecuteTime": {
     "start_time": "2019-10-02T12:37:19.694Z"
    }
   },
   "outputs": [],
   "source": [
    "# # best_max_depth = trial.params['max_depth']\n",
    "# best_learning_rate = trial.params['learning_rate']\n",
    "# # best_bagging_fraction = trial.params['bagging_fraction']\n",
    "# # best_feature_fraction = trial.params['feature_fraction']\n",
    "# best_l1 = trial.params['lambda_l1']\n",
    "# best_l2 = trial.params['lambda_l2']"
   ]
  },
  {
   "cell_type": "code",
   "execution_count": null,
   "metadata": {
    "ExecuteTime": {
     "start_time": "2019-10-02T12:37:19.699Z"
    }
   },
   "outputs": [],
   "source": [
    "# params = {\n",
    "#     'boosting': 'gbdt', \n",
    "#     'objective': 'binary', \n",
    "#     'metric':'auc', \n",
    "#     'seed': 175, \n",
    "#     'num_leaves': 127, \n",
    "# #     'max_depth': best_max_depth, \n",
    "#     'learning_rate':best_learning_rate, \n",
    "# #     'bagging_fraction': best_bagging_fraction, \n",
    "#     'pos_bagging_fraction': 1,\n",
    "#     'neg_bagging_fraction': 1 / neg_pos_ratio, \n",
    "#     'bagging_freq': 1, \n",
    "# #     'feature_fraction': best_feature_fraction, \n",
    "#     'lambda_l1': best_l1, \n",
    "#     'lambda_l2': best_l2, \n",
    "#     'verbosity': -1\n",
    "# }\n",
    "# params"
   ]
  },
  {
   "cell_type": "code",
   "execution_count": null,
   "metadata": {
    "ExecuteTime": {
     "start_time": "2019-10-02T12:37:19.705Z"
    }
   },
   "outputs": [],
   "source": [
    "# params = {\n",
    "#     'boosting': 'gbdt', \n",
    "#     'objective': 'binary', \n",
    "#     'metric':'auc', \n",
    "#     'seed': 175, \n",
    "#     'num_leaves': 127, \n",
    "#     'max_depth': -1, \n",
    "#     'learning_rate': 0.02, \n",
    "# #     'bagging_fraction': 0.8, \n",
    "#     'pos_bagging_fraction': 1,\n",
    "#     'neg_bagging_fraction': 1 / neg_pos_ratio, \n",
    "#     'bagging_freq': 1, \n",
    "#     'feature_fraction': 0.8, \n",
    "# #     'scale_pos_weight': neg_pos_ratio, \n",
    "# #     'is_unbalance': True, \n",
    "#     'verbosity': -1\n",
    "# }"
   ]
  },
  {
   "cell_type": "code",
   "execution_count": null,
   "metadata": {
    "ExecuteTime": {
     "start_time": "2019-10-02T12:37:19.710Z"
    }
   },
   "outputs": [],
   "source": [
    "# params = {\n",
    "#     'learning_rate': 0.009, \n",
    "#     'max_depth': 10, \n",
    "#     'boosting': 'gbdt', \n",
    "#     'objective': 'binary', \n",
    "#     'metric':'auc', 'seed': 4, \n",
    "#     'num_iterations': 10000, \n",
    "#     'early_stopping_round': 100, \n",
    "#     'verbose_eval': 200, \n",
    "#     'num_leaves': 64, \n",
    "#     'feature_fraction': 0.8, \n",
    "#     'bagging_fraction': 0.8, \n",
    "#     'bagging_freq': 5\n",
    "# }"
   ]
  },
  {
   "cell_type": "code",
   "execution_count": null,
   "metadata": {
    "ExecuteTime": {
     "start_time": "2019-10-02T12:37:19.715Z"
    }
   },
   "outputs": [],
   "source": [
    "params = {\n",
    "          'objective':'binary',\n",
    "          'boosting_type':'gbdt',\n",
    "          'metric':'auc',\n",
    "          'n_jobs':-1,\n",
    "          'max_depth':-1,\n",
    "          'tree_learner':'serial',\n",
    "          'min_data_in_leaf':30,\n",
    "#           'n_estimators':1800,\n",
    "          'n_estimators':10000,\n",
    "          'max_bin':255,\n",
    "          'verbose':-1,\n",
    "          'seed': 1229,\n",
    "          'learning_rate': 0.01,\n",
    "          'early_stopping_rounds':200,\n",
    "          'colsample_bytree': 0.5,          \n",
    "          'num_leaves': 256, \n",
    "          'reg_alpha': 0.35, \n",
    "         }"
   ]
  },
  {
   "cell_type": "code",
   "execution_count": null,
   "metadata": {
    "ExecuteTime": {
     "start_time": "2019-10-02T12:37:19.720Z"
    }
   },
   "outputs": [],
   "source": [
    "evaluation_results = {}\n",
    "gbm = lgb.train(\n",
    "    params,\n",
    "    train_data,\n",
    "    valid_sets=[train_data, eval_data],\n",
    "    valid_names=['Train', 'Eval'],\n",
    "    evals_result=evaluation_results,\n",
    "    num_boost_round=10000,\n",
    "    early_stopping_rounds=100, \n",
    "    verbose_eval=20\n",
    ")"
   ]
  },
  {
   "cell_type": "code",
   "execution_count": null,
   "metadata": {
    "ExecuteTime": {
     "start_time": "2019-10-02T12:37:19.726Z"
    }
   },
   "outputs": [],
   "source": [
    "lgb.plot_importance(gbm, importance_type='gain', max_num_features=30, figsize=(12, 6))"
   ]
  },
  {
   "cell_type": "code",
   "execution_count": null,
   "metadata": {
    "ExecuteTime": {
     "start_time": "2019-10-02T12:37:19.733Z"
    }
   },
   "outputs": [],
   "source": [
    "lgb.plot_importance(gbm, importance_type='split', max_num_features=30, figsize=(12, 6))"
   ]
  },
  {
   "cell_type": "code",
   "execution_count": null,
   "metadata": {
    "ExecuteTime": {
     "start_time": "2019-10-02T12:37:19.739Z"
    }
   },
   "outputs": [],
   "source": [
    "# lgb.plot_split_value_histogram(gbm, \"TransactionAmt\")"
   ]
  },
  {
   "cell_type": "code",
   "execution_count": null,
   "metadata": {
    "ExecuteTime": {
     "start_time": "2019-10-02T12:37:19.746Z"
    }
   },
   "outputs": [],
   "source": [
    "# lgb.plot_metric(gbm)"
   ]
  },
  {
   "cell_type": "code",
   "execution_count": null,
   "metadata": {
    "ExecuteTime": {
     "start_time": "2019-10-02T12:37:19.752Z"
    }
   },
   "outputs": [],
   "source": [
    "y_pred_prob = gbm.predict(X_valid)\n",
    "y_pred_prob"
   ]
  },
  {
   "cell_type": "code",
   "execution_count": null,
   "metadata": {
    "ExecuteTime": {
     "start_time": "2019-10-02T12:37:19.760Z"
    }
   },
   "outputs": [],
   "source": [
    "df_valid = X_valid.copy()\n",
    "df_valid[\"isFraud\"] = y_valid\n",
    "df_valid[\"predict_prob\"] = y_pred_prob"
   ]
  },
  {
   "cell_type": "code",
   "execution_count": null,
   "metadata": {
    "ExecuteTime": {
     "start_time": "2019-10-02T12:37:19.767Z"
    }
   },
   "outputs": [],
   "source": [
    "# sns.catplot(x=\"predict_prob\", y=\"isFraud\", data=df_valid, kind='violin')"
   ]
  },
  {
   "cell_type": "code",
   "execution_count": null,
   "metadata": {
    "ExecuteTime": {
     "start_time": "2019-10-02T12:37:19.771Z"
    }
   },
   "outputs": [],
   "source": [
    "fig = plt.figure()\n",
    "ax1 = fig.add_subplot(211)\n",
    "sns.distplot(df_valid.loc[df_valid[\"isFraud\"]==0, \"predict_prob\"], bins=50, hist=True, kde=False, norm_hist=True, color=\"steelblue\", label=\"not Fruad\", ax=ax1)\n",
    "sns.distplot(df_valid.loc[df_valid[\"isFraud\"]==1, \"predict_prob\"], bins=50, hist=True, kde=False, norm_hist=True, color=\"darkred\", label=\"Fruad\", ax=ax1)\n",
    "\n",
    "ax2 = fig.add_subplot(212, sharex=ax1)\n",
    "sns.distplot(df_valid.loc[df_valid[\"isFraud\"]==0, \"predict_prob\"], bins=50, hist=False, kde=True, norm_hist=False, color=\"steelblue\", label=\"not Fruad\", ax=ax2)\n",
    "sns.distplot(df_valid.loc[df_valid[\"isFraud\"]==1, \"predict_prob\"], bins=50, hist=False, kde=True, norm_hist=False, color=\"darkred\", label=\"Fruad\", ax=ax2)\n",
    "\n",
    "plt.xlim([0, 1])"
   ]
  },
  {
   "cell_type": "code",
   "execution_count": null,
   "metadata": {
    "ExecuteTime": {
     "start_time": "2019-10-02T12:37:19.775Z"
    }
   },
   "outputs": [],
   "source": [
    "sns.distplot(df_valid.loc[df_valid[\"isFraud\"]==1, \"predict_prob\"], bins=50, hist=True, kde=False, norm_hist=False, color=\"darkred\", label=\"Fruad\")"
   ]
  },
  {
   "cell_type": "code",
   "execution_count": null,
   "metadata": {
    "ExecuteTime": {
     "start_time": "2019-10-02T12:37:19.780Z"
    }
   },
   "outputs": [],
   "source": [
    "df_valid.loc[df_valid[\"isFraud\"]==1, ].sort_values(\"predict_prob\").head()"
   ]
  },
  {
   "cell_type": "code",
   "execution_count": null,
   "metadata": {
    "ExecuteTime": {
     "start_time": "2019-10-02T12:37:19.784Z"
    }
   },
   "outputs": [],
   "source": [
    "df_valid.loc[df_valid[\"isFraud\"]==1, ].sort_values(\"predict_prob\").tail()"
   ]
  },
  {
   "cell_type": "code",
   "execution_count": null,
   "metadata": {
    "ExecuteTime": {
     "start_time": "2019-10-02T12:37:19.788Z"
    }
   },
   "outputs": [],
   "source": [
    "# df_valid[\"input_rate\"] = 1 - df_valid.isna().sum(axis=1) / len(df_valid.columns)\n",
    "# df_valid[\"input_rate\"].describe()"
   ]
  },
  {
   "cell_type": "code",
   "execution_count": null,
   "metadata": {
    "ExecuteTime": {
     "start_time": "2019-10-02T12:37:19.792Z"
    }
   },
   "outputs": [],
   "source": [
    "# sns.lmplot(x=\"predict_prob\", y=\"input_rate\", data=df_valid.query('isFraud == 1'))"
   ]
  },
  {
   "cell_type": "code",
   "execution_count": null,
   "metadata": {
    "ExecuteTime": {
     "start_time": "2019-10-02T12:37:19.797Z"
    }
   },
   "outputs": [],
   "source": [
    "# sns.relplot(x=\"predict_prob\", y=\"input_rate\", col=\"isFraud\", data=df_valid)"
   ]
  },
  {
   "cell_type": "code",
   "execution_count": null,
   "metadata": {
    "ExecuteTime": {
     "start_time": "2019-10-02T12:37:19.801Z"
    }
   },
   "outputs": [],
   "source": [
    "# grid = sns.FacetGrid(df_valid, col=\"specifyIdentity\", row=\"isFraud\")\n",
    "# grid.map(sns.distplot, \"predict_prob\", hist=False, kde=True)"
   ]
  },
  {
   "cell_type": "code",
   "execution_count": null,
   "metadata": {
    "ExecuteTime": {
     "start_time": "2019-10-02T12:37:19.806Z"
    }
   },
   "outputs": [],
   "source": [
    "# def plot_learning_curve(estimator, X, y, scoring_metrix, cv, \n",
    "#                         train_sizes=np.linspace(0.1, 1.0, 10), \n",
    "#                         title=\"learning curve\", ylim=(0.0, 1.01)):\n",
    "#     plt.figure()\n",
    "#     train_sizes, train_scores, test_scores = learning_curve(estimator, X, y, \n",
    "#         groups=None, train_sizes=train_sizes, cv=cv, scoring=scoring_metrix, \n",
    "#         exploit_incremental_learning=False, n_jobs=-1, pre_dispatch='all', \n",
    "#         verbose=0, shuffle=False, random_state=0, error_score='raise-deprecation')\n",
    "#     train_scores_mean = np.mean(train_scores, axis=1)\n",
    "#     train_scores_std = np.std(train_scores, axis=1)\n",
    "#     test_scores_mean = np.mean(test_scores, axis=1)\n",
    "#     test_scores_std = np.std(test_scores, axis=1)\n",
    "\n",
    "#     plt.fill_between(train_sizes, train_scores_mean - train_scores_std, \n",
    "#         train_scores_mean + train_scores_std, alpha=0.1, color='royalblue')\n",
    "#     plt.fill_between(train_sizes, test_scores_mean - test_scores_std, \n",
    "#         test_scores_mean + test_scores_std, alpha=0.1, color='orange')\n",
    "#     plt.plot(train_sizes, train_scores_mean, 'o-', color='royalblue', label=\"training score\")\n",
    "#     plt.plot(test_sizes, test_scores_mean, 'o-', color='royalblue', label=\"cross-validation score\")\n",
    "\n",
    "#     plt.set_title(title)\n",
    "#     plt.grid()\n",
    "#     plt.xlabel(\"training sample\")\n",
    "#     plt.ylabel(\"score\")\n",
    "#     plt.ylim(ylim)\n",
    "#     plt.legend(loc='lower right')\n",
    "\n",
    "#     return plt"
   ]
  },
  {
   "cell_type": "code",
   "execution_count": null,
   "metadata": {
    "ExecuteTime": {
     "start_time": "2019-10-02T12:37:19.811Z"
    }
   },
   "outputs": [],
   "source": [
    "# plot_learning_curve(gbm, X_valid, y_valid, scoring_metrix='roc_auc', cv=StratifiedShuffleSplit(n_splits=5, test_size=0.2, random_state=0))"
   ]
  },
  {
   "cell_type": "code",
   "execution_count": null,
   "metadata": {
    "ExecuteTime": {
     "start_time": "2019-10-02T12:37:19.815Z"
    }
   },
   "outputs": [],
   "source": [
    "plt.plot(evaluation_results['Train']['auc'], label='Train')\n",
    "plt.plot(evaluation_results['Eval']['auc'], label='Eval')\n",
    "plt.ylabel('auc')\n",
    "plt.xlabel('Boosting round')\n",
    "plt.title('Training performance')\n",
    "plt.legend()"
   ]
  },
  {
   "cell_type": "code",
   "execution_count": null,
   "metadata": {
    "ExecuteTime": {
     "start_time": "2019-10-02T12:37:19.820Z"
    }
   },
   "outputs": [],
   "source": [
    "def plot_roc_curve(y, y_pred_prob, title=\"ROC curve\"):\n",
    "    false_positive_rate, true_positive_rate, thresholds = roc_curve(y, y_pred_prob, pos_label=1)\n",
    "    auc_score = auc(false_positive_rate, true_positive_rate)\n",
    "\n",
    "    plt.plot(false_positive_rate, true_positive_rate, label=\"ROC curve (area = %.4f)\"%auc_score)\n",
    "    plt.title(title)\n",
    "    plt.grid()\n",
    "    plt.xlabel(\"false positive rate\")\n",
    "    plt.ylabel(\"true positive rate\")\n",
    "    plt.legend()\n",
    "\n",
    "    return plt"
   ]
  },
  {
   "cell_type": "code",
   "execution_count": null,
   "metadata": {
    "ExecuteTime": {
     "start_time": "2019-10-02T12:37:19.825Z"
    }
   },
   "outputs": [],
   "source": [
    "plot_roc_curve(y_valid, y_pred_prob)"
   ]
  },
  {
   "cell_type": "code",
   "execution_count": null,
   "metadata": {
    "ExecuteTime": {
     "start_time": "2019-10-02T12:37:19.830Z"
    }
   },
   "outputs": [],
   "source": [
    "def plot_score_changed_thresholds(y, y_pred_prob, title=\"model-score changed thresholds\"):\n",
    "    precision, recall, thresholds = precision_recall_curve(y, y_pred_prob, pos_label=1)\n",
    "    thresholds = np.append(thresholds, 1)\n",
    "    fscore = 2 * precision * recall / (precision + recall)\n",
    "\n",
    "    plt.plot(thresholds, precision, linestyle='-', color=sns.color_palette('tab10', 4)[0])\n",
    "    plt.plot(thresholds, recall, linestyle='--', color=sns.color_palette('tab10', 4)[1])\n",
    "    plt.plot(thresholds, fscore, linestyle='-.', color=sns.color_palette('tab10', 4)[2])\n",
    "\n",
    "    leg = plt.legend((\"precision\", \"recall\", \"f-measure\"), loc='upper right', frameon=True)\n",
    "    leg.get_frame().set_edgecolor('k')\n",
    "    plt.grid()\n",
    "    plt.xlim([0, 1])\n",
    "    plt.title(\"model-score changed thresholds\")\n",
    "    plt.xlim([0, 1])\n",
    "    plt.xlabel(\"thresholds\")\n",
    "    plt.ylim([0, 1])\n",
    "    plt.ylabel(\"score\")\n",
    "\n",
    "    return plt\n"
   ]
  },
  {
   "cell_type": "code",
   "execution_count": null,
   "metadata": {
    "ExecuteTime": {
     "start_time": "2019-10-02T12:37:19.834Z"
    }
   },
   "outputs": [],
   "source": [
    "plot_score_changed_thresholds(y_valid, y_pred_prob)"
   ]
  },
  {
   "cell_type": "code",
   "execution_count": null,
   "metadata": {
    "ExecuteTime": {
     "start_time": "2019-10-02T12:37:19.838Z"
    }
   },
   "outputs": [],
   "source": [
    "# y_pred = np.where(y_pred_prob > 0.1, 1, 0)\n",
    "# confusion_matrix(y_valid, y_pred)"
   ]
  },
  {
   "cell_type": "code",
   "execution_count": null,
   "metadata": {
    "ExecuteTime": {
     "start_time": "2019-10-02T12:37:19.842Z"
    }
   },
   "outputs": [],
   "source": [
    "sub = pd.DataFrame(pd.read_csv(\"../input/ieee-fraud-detection/test_transaction.csv\")['TransactionID'])\n",
    "sub['isFraud'] = gbm.predict(X_test)\n",
    "sub.to_csv(\"submission.csv\", index = False)"
   ]
  },
  {
   "cell_type": "code",
   "execution_count": null,
   "metadata": {
    "ExecuteTime": {
     "start_time": "2019-10-02T12:37:19.846Z"
    }
   },
   "outputs": [],
   "source": [
    "def write_spreadsheet(*args):\n",
    "    endpoint = 'https://script.google.com/macros/s/AKfycbxZhZc3lPJ6eLATt_r9dPVQZUjuzpIvQ6vjSYFZdLOlt1TqWvtC/exec'\n",
    "    requests.post(endpoint, json.dumps(args))"
   ]
  },
  {
   "cell_type": "code",
   "execution_count": null,
   "metadata": {
    "ExecuteTime": {
     "start_time": "2019-10-02T12:37:19.850Z"
    }
   },
   "outputs": [],
   "source": [
    "# write_spreadsheet('baseline', *scores)\n",
    "# write_spreadsheet('baseline', auc)"
   ]
  },
  {
   "cell_type": "markdown",
   "metadata": {},
   "source": [
    "# explain"
   ]
  },
  {
   "cell_type": "code",
   "execution_count": null,
   "metadata": {
    "ExecuteTime": {
     "start_time": "2019-10-02T12:37:19.856Z"
    }
   },
   "outputs": [],
   "source": [
    "# features = [\"czrd1\", \"TransactionAmt\", \"card2\", \"C13\", \"D2\"]\n",
    "# partial_dependence(gbm, X_train, features)"
   ]
  },
  {
   "cell_type": "code",
   "execution_count": null,
   "metadata": {
    "ExecuteTime": {
     "start_time": "2019-10-02T12:37:19.861Z"
    }
   },
   "outputs": [],
   "source": [
    "# explainer = shap.TreeExplainer(gbm)\n",
    "# shap_values = explainer.shap_values(X_valid)"
   ]
  },
  {
   "cell_type": "code",
   "execution_count": null,
   "metadata": {
    "ExecuteTime": {
     "start_time": "2019-10-02T12:37:19.865Z"
    }
   },
   "outputs": [],
   "source": [
    "# df_shap = pd.DataFrame(data=shap_values, index=key_valid, columns=X_valid.columns)\n",
    "# df_shap.to_csv(\"shap_value.csv\", index = False)"
   ]
  },
  {
   "cell_type": "code",
   "execution_count": null,
   "metadata": {
    "ExecuteTime": {
     "start_time": "2019-10-02T12:37:19.869Z"
    }
   },
   "outputs": [],
   "source": [
    "# shap.initjs()"
   ]
  },
  {
   "cell_type": "code",
   "execution_count": null,
   "metadata": {
    "ExecuteTime": {
     "start_time": "2019-10-02T12:37:19.873Z"
    }
   },
   "outputs": [],
   "source": [
    "# shap.summary_plot(shap_values, X_valid)"
   ]
  },
  {
   "cell_type": "code",
   "execution_count": null,
   "metadata": {
    "ExecuteTime": {
     "start_time": "2019-10-02T12:37:19.877Z"
    }
   },
   "outputs": [],
   "source": [
    "# sns.relplot(x=\"predict_prob\", y=\"card1\", col=\"isFraud\", data=df_valid)"
   ]
  },
  {
   "cell_type": "code",
   "execution_count": null,
   "metadata": {
    "ExecuteTime": {
     "start_time": "2019-10-02T12:37:19.882Z"
    }
   },
   "outputs": [],
   "source": [
    "# sns.relplot(x=\"predict_prob\", y=\"TransactionAmt\", col=\"isFraud\", data=df_valid)"
   ]
  },
  {
   "cell_type": "code",
   "execution_count": null,
   "metadata": {
    "ExecuteTime": {
     "start_time": "2019-10-02T12:37:19.886Z"
    }
   },
   "outputs": [],
   "source": [
    "# shap.dependence_plot(\"card1\", shap_values, X_valid)"
   ]
  },
  {
   "cell_type": "code",
   "execution_count": null,
   "metadata": {
    "ExecuteTime": {
     "start_time": "2019-10-02T12:37:19.890Z"
    }
   },
   "outputs": [],
   "source": [
    "# shap.force_plot(explainer.expected_value, shap_values[0,:], X_valid.iloc[0,:])"
   ]
  },
  {
   "cell_type": "code",
   "execution_count": null,
   "metadata": {
    "ExecuteTime": {
     "start_time": "2019-10-02T12:37:19.895Z"
    }
   },
   "outputs": [],
   "source": [
    "# index_key = df_valid[\"predict_prob\"].reset_index(drop=True).idxmax()\n",
    "# shap.force_plot(explainer.expected_value, shap_values[index_key,:], X_valid.iloc[index_key,:])"
   ]
  },
  {
   "cell_type": "code",
   "execution_count": null,
   "metadata": {
    "ExecuteTime": {
     "start_time": "2019-10-02T12:37:19.900Z"
    }
   },
   "outputs": [],
   "source": [
    "# index_key = df_valid[\"predict_prob\"].reset_index(drop=True).idxmin()\n",
    "# shap.force_plot(explainer.expected_value, shap_values[index_key,:], X_valid.iloc[index_key,:])"
   ]
  },
  {
   "cell_type": "code",
   "execution_count": null,
   "metadata": {
    "ExecuteTime": {
     "start_time": "2019-10-02T12:37:19.904Z"
    }
   },
   "outputs": [],
   "source": [
    "# shap.force_plot(explainer.expected_value, shap_values[1:1000], X_valid[1:1000])"
   ]
  },
  {
   "cell_type": "code",
   "execution_count": null,
   "metadata": {
    "ExecuteTime": {
     "start_time": "2019-10-02T12:37:19.908Z"
    }
   },
   "outputs": [],
   "source": [
    "# shap_interaction_values = explainer.shap_interaction_values(train_X)"
   ]
  },
  {
   "cell_type": "code",
   "execution_count": null,
   "metadata": {
    "ExecuteTime": {
     "start_time": "2019-10-02T12:37:19.913Z"
    }
   },
   "outputs": [],
   "source": [
    "# shap.summary_plot(shap_interaction_values, train_X)"
   ]
  },
  {
   "cell_type": "code",
   "execution_count": null,
   "metadata": {
    "ExecuteTime": {
     "start_time": "2019-10-02T12:37:19.917Z"
    }
   },
   "outputs": [],
   "source": [
    "def send_line_notification(message):\n",
    "    line_token = 'tB3RUUxiXOOMB8KjRJXsBEWP2zAnaWzRypXKmQHsiNd'  # 終わったら無効化する\n",
    "    endpoint = 'https://notify-api.line.me/api/notify'\n",
    "    message = \"\\n{}\".format(message)\n",
    "    payload = {'message': message}\n",
    "    headers = {'Authorization': 'Bearer {}'.format(line_token)}\n",
    "    requests.post(endpoint, data=payload, headers=headers)"
   ]
  },
  {
   "cell_type": "code",
   "execution_count": null,
   "metadata": {
    "ExecuteTime": {
     "start_time": "2019-10-02T12:37:19.922Z"
    }
   },
   "outputs": [],
   "source": [
    "send_line_notification(\"execution compelete!\")"
   ]
  }
 ],
 "metadata": {
  "kernelspec": {
   "display_name": "Python 3",
   "language": "python",
   "name": "python3"
  },
  "language_info": {
   "codemirror_mode": {
    "name": "ipython",
    "version": 3
   },
   "file_extension": ".py",
   "mimetype": "text/x-python",
   "name": "python",
   "nbconvert_exporter": "python",
   "pygments_lexer": "ipython3",
   "version": "3.6.5"
  },
  "toc": {
   "base_numbering": 1,
   "nav_menu": {},
   "number_sections": true,
   "sideBar": true,
   "skip_h1_title": false,
   "title_cell": "Table of Contents",
   "title_sidebar": "Contents",
   "toc_cell": false,
   "toc_position": {},
   "toc_section_display": true,
   "toc_window_display": false
  },
  "varInspector": {
   "cols": {
    "lenName": 16,
    "lenType": 16,
    "lenVar": 40
   },
   "kernels_config": {
    "python": {
     "delete_cmd_postfix": "",
     "delete_cmd_prefix": "del ",
     "library": "var_list.py",
     "varRefreshCmd": "print(var_dic_list())"
    },
    "r": {
     "delete_cmd_postfix": ") ",
     "delete_cmd_prefix": "rm(",
     "library": "var_list.r",
     "varRefreshCmd": "cat(var_dic_list()) "
    }
   },
   "types_to_exclude": [
    "module",
    "function",
    "builtin_function_or_method",
    "instance",
    "_Feature"
   ],
   "window_display": false
  }
 },
 "nbformat": 4,
 "nbformat_minor": 1
}
