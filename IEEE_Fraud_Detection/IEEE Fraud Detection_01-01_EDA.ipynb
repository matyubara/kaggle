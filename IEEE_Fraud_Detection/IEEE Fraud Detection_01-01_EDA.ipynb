{
 "cells": [
  {
   "cell_type": "markdown",
   "metadata": {},
   "source": [
    "# setteing"
   ]
  },
  {
   "cell_type": "code",
   "execution_count": null,
   "metadata": {
    "ExecuteTime": {
     "end_time": "2019-07-28T10:54:44.085959Z",
     "start_time": "2019-07-28T10:54:43.059869Z"
    },
    "_cell_guid": "79c7e3d0-c299-4dcb-8224-4455121ee9b0",
    "_uuid": "d629ff2d2480ee46fbb7e2d37f6b5fab8052498a"
   },
   "outputs": [],
   "source": [
    "%reload_ext autoreload\n",
    "%autoreload 2\n",
    "%matplotlib inline\n",
    "\n",
    "import sys\n",
    "sys.path.append('../')\n",
    "import common\n",
    "import gc\n",
    "import math\n",
    "import datetime\n",
    "\n",
    "import numpy as np\n",
    "import pandas as pd\n",
    "import matplotlib.pyplot as plt\n",
    "import seaborn as sns\n",
    "import pandas_profiling as pdp\n",
    "import missingno as msno\n",
    "from matplotlib.backends.backend_pdf import PdfPages\n",
    "\n",
    "pd.set_option('display.max_columns', 500)\n",
    "pd.set_option('display.max_rows', 100)\n",
    "pd.set_option('display.float_format', '{: .2f}'.format)"
   ]
  },
  {
   "cell_type": "markdown",
   "metadata": {
    "ExecuteTime": {
     "end_time": "2019-07-20T09:00:53.679772Z",
     "start_time": "2019-07-20T09:00:53.674519Z"
    }
   },
   "source": [
    "# dataset"
   ]
  },
  {
   "cell_type": "code",
   "execution_count": null,
   "metadata": {
    "ExecuteTime": {
     "end_time": "2019-07-28T11:02:51.824106Z",
     "start_time": "2019-07-28T11:00:54.191738Z"
    },
    "scrolled": true
   },
   "outputs": [],
   "source": [
    "df_transaction_train = pd.read_csv(\"../input/ieee-fraud-detection/train_transaction.csv\")\n",
    "df_identity_train = pd.read_csv(\"../input/ieee-fraud-detection/train_identity.csv\")\n",
    "df_identity_train[\"specifyIdentity\"] = 1\n",
    "df_train = pd.merge(df_transaction_train, df_identity_train, how='left', on=\"TransactionID\")\n",
    "df_train[\"isTest\"] = 0\n",
    "df_train[\"specifyIdentity\"] = df_train[\"specifyIdentity\"].fillna(0) \n",
    "df_train.describe()"
   ]
  },
  {
   "cell_type": "code",
   "execution_count": null,
   "metadata": {
    "ExecuteTime": {
     "end_time": "2019-07-28T11:04:40.960846Z",
     "start_time": "2019-07-28T11:02:56.776828Z"
    },
    "scrolled": true
   },
   "outputs": [],
   "source": [
    "df_transaction_test = pd.read_csv(\"../input/ieee-fraud-detection/test_transaction.csv\")\n",
    "df_identity_test = pd.read_csv(\"../input/ieee-fraud-detection/test_identity.csv\")\n",
    "df_identity_test[\"specifyIdentity\"] = 1\n",
    "df_test = pd.merge(df_transaction_test, df_identity_test, how='left', on=\"TransactionID\")\n",
    "df_test[\"isTest\"] = 1\n",
    "df_test[\"specifyIdentity\"] = df_test[\"specifyIdentity\"].fillna(0) \n",
    "df_test.describe()"
   ]
  },
  {
   "cell_type": "code",
   "execution_count": null,
   "metadata": {
    "ExecuteTime": {
     "end_time": "2019-07-28T11:07:51.588837Z",
     "start_time": "2019-07-28T11:04:48.934532Z"
    },
    "scrolled": true
   },
   "outputs": [],
   "source": [
    "df = pd.concat([df_train, df_test]).reset_index(drop=True)\n",
    "df.describe()"
   ]
  },
  {
   "cell_type": "code",
   "execution_count": null,
   "metadata": {
    "ExecuteTime": {
     "end_time": "2019-07-28T11:08:06.152035Z",
     "start_time": "2019-07-28T11:07:58.900872Z"
    }
   },
   "outputs": [],
   "source": [
    "del df_transaction_train\n",
    "del df_identity_train\n",
    "del df_train\n",
    "del df_transaction_test\n",
    "del df_identity_test\n",
    "del df_test\n",
    "\n",
    "gc.collect()"
   ]
  },
  {
   "cell_type": "markdown",
   "metadata": {},
   "source": [
    "* Constant Value : C5,C9 etc<br>\n",
    "* All Null : ****D11,V1,V10,dist1 etc"
   ]
  },
  {
   "cell_type": "code",
   "execution_count": null,
   "metadata": {
    "ExecuteTime": {
     "end_time": "2019-07-28T11:08:09.806797Z",
     "start_time": "2019-07-28T11:08:08.492146Z"
    },
    "scrolled": true
   },
   "outputs": [],
   "source": [
    "df.info()"
   ]
  },
  {
   "cell_type": "code",
   "execution_count": null,
   "metadata": {
    "ExecuteTime": {
     "end_time": "2019-07-28T11:27:10.934866Z",
     "start_time": "2019-07-28T11:08:11.935995Z"
    },
    "scrolled": true
   },
   "outputs": [],
   "source": [
    "df = common.reduce_mem_usage(df)"
   ]
  },
  {
   "cell_type": "code",
   "execution_count": null,
   "metadata": {
    "ExecuteTime": {
     "end_time": "2019-07-28T11:27:23.184166Z",
     "start_time": "2019-07-28T11:27:14.763044Z"
    }
   },
   "outputs": [],
   "source": [
    "df.info()"
   ]
  },
  {
   "cell_type": "code",
   "execution_count": null,
   "metadata": {
    "ExecuteTime": {
     "end_time": "2019-07-28T11:27:26.731086Z",
     "start_time": "2019-07-28T11:27:25.772160Z"
    }
   },
   "outputs": [],
   "source": [
    "for col in df.columns:\n",
    "    if df[col].dtype == object:\n",
    "        print(col)"
   ]
  },
  {
   "cell_type": "code",
   "execution_count": null,
   "metadata": {
    "ExecuteTime": {
     "end_time": "2019-07-28T11:27:29.578898Z",
     "start_time": "2019-07-28T11:27:28.597415Z"
    }
   },
   "outputs": [],
   "source": [
    "list_categorical_feature = [\"ProductCD\", \"card1\", \"card2\", \"card3\", \"card4\", \"card5\", \"card6\", \"addr1\", \"addr2\", \"P_emaildomain\", \"R_emaildomain\", \"M1\", \"M2\", \"M3\", \"M4\", \"M5\", \"M6\", \"M7\", \"M8\", \"M9\", \"DeviceType\", \"DeviceInfo\", \"id_12\", \"id_13\", \"id_14\", \"id_15\", \"id_16\", \"id_17\", \"id_18\", \"id_19\", \"id_20\", \"id_21\", \"id_22\", \"id_23\", \"id_24\", \"id_25\", \"id_26\", \"id_27\", \"id_28\", \"id_29\", \"id_30\", \"id_31\", \"id_32\", \"id_33\", \"id_34\", \"id_35\", \"id_36\", \"id_37\", \"id_38\"]"
   ]
  },
  {
   "cell_type": "code",
   "execution_count": null,
   "metadata": {
    "ExecuteTime": {
     "end_time": "2019-07-28T11:28:19.981356Z",
     "start_time": "2019-07-28T11:27:31.285104Z"
    }
   },
   "outputs": [],
   "source": [
    "df[list_categorical_feature] = df[list_categorical_feature].astype('category')"
   ]
  },
  {
   "cell_type": "code",
   "execution_count": null,
   "metadata": {
    "ExecuteTime": {
     "end_time": "2019-07-28T11:28:23.019585Z",
     "start_time": "2019-07-28T11:28:22.071489Z"
    }
   },
   "outputs": [],
   "source": [
    "df.info()"
   ]
  },
  {
   "cell_type": "code",
   "execution_count": null,
   "metadata": {
    "ExecuteTime": {
     "end_time": "2019-07-28T11:28:41.831707Z",
     "start_time": "2019-07-28T11:28:24.635830Z"
    }
   },
   "outputs": [],
   "source": [
    "list_col_constant_val = [col for col in df.columns if len(df[col].unique()) == 1]\n",
    "list_col_constant_val"
   ]
  },
  {
   "cell_type": "code",
   "execution_count": null,
   "metadata": {
    "ExecuteTime": {
     "end_time": "2019-07-28T11:28:46.656114Z",
     "start_time": "2019-07-28T11:28:43.744548Z"
    }
   },
   "outputs": [],
   "source": [
    "df = df.drop(columns=list_col_constant_val)"
   ]
  },
  {
   "cell_type": "code",
   "execution_count": null,
   "metadata": {
    "ExecuteTime": {
     "end_time": "2019-07-28T11:28:49.601248Z",
     "start_time": "2019-07-28T11:28:48.454914Z"
    },
    "scrolled": true
   },
   "outputs": [],
   "source": [
    "df.info()"
   ]
  },
  {
   "cell_type": "markdown",
   "metadata": {},
   "source": [
    "# preprocessing"
   ]
  },
  {
   "cell_type": "code",
   "execution_count": null,
   "metadata": {
    "ExecuteTime": {
     "end_time": "2019-07-28T11:29:07.362267Z",
     "start_time": "2019-07-28T11:28:51.889611Z"
    }
   },
   "outputs": [],
   "source": [
    "df[\"input_rate\"] = 1 - df.isna().sum(axis=1) / len(df.columns.drop([\"TransactionID\", \"isTest\", \"specifyIdentity\"]))\n",
    "df[\"input_rate\"] = df[\"input_rate\"].astype('float32')\n",
    "df[\"input_rate\"].describe()"
   ]
  },
  {
   "cell_type": "code",
   "execution_count": null,
   "metadata": {
    "ExecuteTime": {
     "end_time": "2019-07-28T11:30:35.189057Z",
     "start_time": "2019-07-28T11:30:31.314315Z"
    }
   },
   "outputs": [],
   "source": [
    "# https://www.kaggle.com/danofer/ieee-fraud-features-xgboost-0-934-lb\n",
    "\n",
    "START_DATE = \"2017-12-01\"\n",
    "startdate = datetime.datetime.strptime(START_DATE, '%Y-%m-%d')\n",
    "df[\"TransactionDT\"] = df[\"TransactionDT\"].apply(lambda x: (startdate + datetime.timedelta(seconds = x)))\n",
    "\n",
    "# df[\"month\"] = df[\"TransactionDT\"].dt.month\n",
    "df[\"TransactionDT_dow\"] = df[\"TransactionDT\"].dt.dayofweek\n",
    "df[\"TransactionDT_hour\"] = df[\"TransactionDT\"].dt.hour\n",
    "df[\"TransactionDT_day\"] = df[\"TransactionDT\"].dt.day\n",
    "df[\"TransactionDT_part_of_month\"] = [ \"head\" if day < 10 else \"middle\" if day < 20 else \"tail\" for day in df[\"TransactionDT_day\"]]\n",
    "\n",
    "#  df.drop([\"TransactionDT\"],axis=1,inplace=True)"
   ]
  },
  {
   "cell_type": "code",
   "execution_count": null,
   "metadata": {
    "ExecuteTime": {
     "end_time": "2019-07-28T12:26:32.657237Z",
     "start_time": "2019-07-28T12:26:29.375018Z"
    }
   },
   "outputs": [],
   "source": [
    "# #https://www.kaggle.com/c/ieee-fraud-detection/discussion/100499#latest-579654\n",
    "dict_emails = {'gmail': 'google', 'att.net': 'att', 'twc.com': 'spectrum', 'scranton.edu': 'other', 'optonline.net': 'other', 'hotmail.co.uk': 'microsoft', 'comcast.net': 'other', 'yahoo.com.mx': 'yahoo', 'yahoo.fr': 'yahoo', 'yahoo.es': 'yahoo', 'charter.net': 'spectrum', 'live.com': 'microsoft', 'aim.com': 'aol', 'hotmail.de': 'microsoft', 'centurylink.net': 'centurylink', 'gmail.com': 'google', 'me.com': 'apple', 'earthlink.net': 'other', 'gmx.de': 'other', 'web.de': 'other', 'cfl.rr.com': 'other', 'hotmail.com': 'microsoft', 'protonmail.com': 'other', 'hotmail.fr': 'microsoft', 'windstream.net': 'other', 'outlook.es': 'microsoft', 'yahoo.co.jp': 'yahoo', 'yahoo.de': 'yahoo', 'servicios-ta.com': 'other', 'netzero.net': 'other', 'suddenlink.net': 'other', 'roadrunner.com': 'other', 'sc.rr.com': 'other', 'live.fr': 'microsoft', 'verizon.net': 'yahoo', 'msn.com': 'microsoft', 'q.com': 'centurylink', 'prodigy.net.mx': 'att', 'frontier.com': 'yahoo', 'anonymous.com': 'other', 'rocketmail.com': 'yahoo', 'sbcglobal.net': 'att', 'frontiernet.net': 'yahoo', 'ymail.com': 'yahoo', 'outlook.com': 'microsoft', 'mail.com': 'other', 'bellsouth.net': 'other', 'embarqmail.com': 'centurylink', 'cableone.net': 'other', 'hotmail.es': 'microsoft', 'mac.com': 'apple', 'yahoo.co.uk': 'yahoo', 'netzero.com': 'other', 'yahoo.com': 'yahoo', 'live.com.mx': 'microsoft', 'ptd.net': 'other', 'cox.net': 'other', 'aol.com': 'aol', 'juno.com': 'other', 'icloud.com': 'apple'}\n",
    "list_us_emails = ['gmail', 'net', 'edu']\n",
    "\n",
    "for col in ['P_emaildomain', 'R_emaildomain']:\n",
    "    df[col + '_bin'] = df[col].map(dict_emails)\n",
    "    df[col + '_suffix'] = df[col].map(lambda x: str(x).split('.')[-1])\n",
    "    df[col + '_suffix'] = df[col + '_suffix'].map(lambda x: x if str(x) not in list_us_emails else 'us')"
   ]
  },
  {
   "cell_type": "code",
   "execution_count": null,
   "metadata": {
    "ExecuteTime": {
     "end_time": "2019-07-28T14:21:21.005936Z",
     "start_time": "2019-07-28T14:07:00.905174Z"
    }
   },
   "outputs": [],
   "source": [
    "# https://www.kaggle.com/gsnehaa21/federal-holidays-usa-19662020\n",
    "df_usholidays = pd.read_csv(\"../input/federal-holidays-usa-19662020/usholidays.csv\")\n",
    "df_usholidays = df_usholidays[datetime(2017, 12, 1) <= pd.to_datetime(df_usholidays[\"Date\"])]"
   ]
  },
  {
   "cell_type": "code",
   "execution_count": null,
   "metadata": {
    "ExecuteTime": {
     "end_time": "2019-07-28T18:37:33.100796Z",
     "start_time": "2019-07-28T18:18:47.029766Z"
    }
   },
   "outputs": [],
   "source": [
    "# list_wk = [1 if  date in pd.to_datetime(df_usholidays[\"Date\"]) else 0 for date in df[\"TransactionDT\"].dt.date]\n",
    "# np.count_nonzero(list_wk)"
   ]
  },
  {
   "cell_type": "markdown",
   "metadata": {},
   "source": [
    "# EDA"
   ]
  },
  {
   "cell_type": "code",
   "execution_count": null,
   "metadata": {
    "ExecuteTime": {
     "end_time": "2019-07-24T00:29:21.837276Z",
     "start_time": "2019-07-24T00:29:19.921094Z"
    },
    "scrolled": true
   },
   "outputs": [],
   "source": [
    "msno.matrix(df[1:1000], sort='ascending')"
   ]
  },
  {
   "cell_type": "code",
   "execution_count": null,
   "metadata": {
    "ExecuteTime": {
     "end_time": "2019-07-24T00:29:24.720288Z",
     "start_time": "2019-07-24T00:29:21.840267Z"
    }
   },
   "outputs": [],
   "source": [
    "msno.bar(df[1:1000])"
   ]
  },
  {
   "cell_type": "code",
   "execution_count": null,
   "metadata": {
    "ExecuteTime": {
     "end_time": "2019-07-24T00:33:09.709297Z",
     "start_time": "2019-07-24T00:29:24.720288Z"
    }
   },
   "outputs": [],
   "source": [
    "msno.heatmap(df[1:1000])"
   ]
  },
  {
   "cell_type": "code",
   "execution_count": null,
   "metadata": {
    "ExecuteTime": {
     "end_time": "2019-07-24T00:33:21.663190Z",
     "start_time": "2019-07-24T00:33:09.712801Z"
    }
   },
   "outputs": [],
   "source": [
    "msno.dendrogram(df[1:1000])"
   ]
  },
  {
   "cell_type": "code",
   "execution_count": null,
   "metadata": {
    "ExecuteTime": {
     "end_time": "2019-07-24T00:33:23.392562Z",
     "start_time": "2019-07-24T00:33:21.668176Z"
    }
   },
   "outputs": [],
   "source": [
    "list_categorical_unique_val_num = []\n",
    "\n",
    "for col in df.columns:\n",
    "    if (col in list_categorical_feature) | (df[col].dtype == object):\n",
    "        unique_val_num = len(df[col].unique())\n",
    "        list_categorical_unique_val_num.append([col, unique_val_num])\n",
    "\n",
    "df_categorical_unique_val_num = pd.DataFrame(list_categorical_unique_val_num, columns=[\"feature\", \"unique_values\"])\n",
    "df_categorical_unique_val_num.sort_values(\"unique_values\", ascending=False)"
   ]
  },
  {
   "cell_type": "code",
   "execution_count": null,
   "metadata": {
    "ExecuteTime": {
     "end_time": "2019-07-24T00:33:24.897189Z",
     "start_time": "2019-07-24T00:33:23.408520Z"
    },
    "scrolled": true
   },
   "outputs": [],
   "source": [
    "sns.barplot(x=\"feature\", y=\"unique_values\", data=df_categorical_unique_val_num.sort_values(\"unique_values\", ascending=False))\n",
    "plt.xticks(rotation=90)"
   ]
  },
  {
   "cell_type": "code",
   "execution_count": null,
   "metadata": {
    "ExecuteTime": {
     "end_time": "2019-07-24T00:33:49.717632Z",
     "start_time": "2019-07-24T00:33:24.903039Z"
    },
    "scrolled": true
   },
   "outputs": [],
   "source": [
    "list_neumeric_unique_val_num = []\n",
    "\n",
    "for col in df.select_dtypes(include='number'):\n",
    "    unique_val_num = len(df[col].unique())\n",
    "    list_neumeric_unique_val_num.append([col, unique_val_num])\n",
    "\n",
    "df_neumeric_unique_val_num = pd.DataFrame(list_neumeric_unique_val_num, columns=[\"feature\", \"unique_values\"])\n",
    "df_neumeric_unique_val_num.sort_values(\"unique_values\", ascending=False).tail(50)"
   ]
  },
  {
   "cell_type": "code",
   "execution_count": null,
   "metadata": {
    "ExecuteTime": {
     "end_time": "2019-07-24T00:33:50.517492Z",
     "start_time": "2019-07-24T00:33:49.736580Z"
    },
    "code_folding": [],
    "scrolled": true
   },
   "outputs": [],
   "source": [
    "def plot_all_feature(arg_df, compare_feature_name):\n",
    "    pp = PdfPages(\"./output/plot_feature_compare_{}.pdf\".format(compare_feature_name))\n",
    "\n",
    "    for col in arg_df.columns:\n",
    "        print(col + \" : \" + str(arg_df[col].dtype))\n",
    "\n",
    "        if col in [\"TransactionID\", \"TransactionDT\"]:\n",
    "            print(\" ※skip\")\n",
    "            continue\n",
    "\n",
    "        unique_val_num = len(arg_df[col].unique())\n",
    "\n",
    "        fig = plt.figure(figsize=(12, 9))\n",
    "\n",
    "        if (col in list_categorical_feature) | (arg_df[col].dtype == object) | (unique_val_num < 10):\n",
    "            ax1 = fig.add_subplot(221)\n",
    "            bars = pd.crosstab(arg_df[compare_feature_name], arg_df[col], dropna=True, normalize =False).plot(kind='bar', stacked=True, ax=ax1)\n",
    "            ax1.set_title(\"{} input_rate: {:.2%}\".format(col, 1 - df[col].isna().sum(axis=0) / len(df)))\n",
    "            ax1.set_xlabel(\"\")\n",
    "            ax1.set_xticks([])\n",
    "            ax1.set_ylim(ymax=len(arg_df))\n",
    "            dict_xy = {}\n",
    "            for bar in bars.patches:\n",
    "                if bar.get_x() not in dict_xy:\n",
    "                    dict_xy[bar.get_x()] = bar.get_height()\n",
    "                else:\n",
    "                    dict_xy[bar.get_x()] = dict_xy.get(bar.get_x()) + bar.get_height()\n",
    "            for dict_x, dict_y in dict_xy.items():\n",
    "                ax1.annotate(int(dict_y), xy=(dict_x + bar.get_width() / 2, dict_y), xytext=(0, 3), textcoords='offset points', ha='center', va='bottom')\n",
    "\n",
    "            ax2 = fig.add_subplot(222)\n",
    "            bars = pd.crosstab(arg_df[col], arg_df[compare_feature_name], dropna=True, normalize =False).plot(kind='bar', stacked=True, colormap='coolwarm', ax=ax2)\n",
    "            ax2.set_xlabel(\"\")\n",
    "            ax2.set_xticks([])\n",
    "            ax2.set_ylim(ymax=len(arg_df))\n",
    "            dict_xy = {}\n",
    "            for bar in bars.patches:\n",
    "                if bar.get_x() not in dict_xy:\n",
    "                    dict_xy[bar.get_x()] = bar.get_height()\n",
    "                else:\n",
    "                    dict_xy[bar.get_x()] = dict_xy.get(bar.get_x()) + bar.get_height()\n",
    "            for dict_x, dict_y in dict_xy.items():\n",
    "                ax2.annotate(int(dict_y), xy=(dict_x + bar.get_width() / 2, dict_y), xytext=(0, 3), textcoords='offset points', ha='center', va='bottom')\n",
    "\n",
    "            ax3 = fig.add_subplot(223)\n",
    "            pd.crosstab(arg_df[compare_feature_name], arg_df[col], dropna=True, normalize ='index').plot(kind='bar', legend=False, stacked=True, ax=ax3)\n",
    "\n",
    "            ax4 = fig.add_subplot(224)\n",
    "            pd.crosstab(arg_df[col], arg_df[compare_feature_name], dropna=True, normalize ='index').plot(kind='bar', legend=False, stacked=True, colormap='coolwarm', ax=ax4)\n",
    "\n",
    "            plt.xticks(rotation=90)\n",
    "\n",
    "        else:\n",
    "            x_min = arg_df[col].min()\n",
    "            x_max = arg_df[col].max()\n",
    "\n",
    "            if (0 <= x_min) & (x_max <= 1):\n",
    "                adjust_bins = np.arange(0, 1, 0.05)\n",
    "            elif unique_val_num < 50:\n",
    "                adjust_bins = np.arange(x_min, x_max, 1)\n",
    "            else:\n",
    "                adjust_bins = np.arange(x_min, x_max, max(1, int(abs(x_max - x_min) / 50)))\n",
    "\n",
    "            ax1 = fig.add_subplot(221)\n",
    "#             sns.distplot(arg_df.loc[arg_df[compare_feature_name]==0, col].dropna(), bins=adjust_bins, hist=True, kde=False, norm_hist=True, color=\"steelblue\", label=\"0\", ax=ax1)\n",
    "            sns.distplot(arg_df.loc[arg_df[compare_feature_name]==0, col].dropna(), bins=adjust_bins, hist=True, kde=False, norm_hist=True, color=\"steelblue\", label=\"0\", ax=ax1)\n",
    "#             sns.distplot(arg_df.loc[arg_df[compare_feature_name]==1, col].dropna(), bins=adjust_bins, hist=True, kde=False, norm_hist=True, color=\"darkred\",  label=\"1\", ax=ax1)\n",
    "            sns.distplot(arg_df.loc[arg_df[compare_feature_name]==1, col].dropna(), bins=adjust_bins, hist=True, kde=False, norm_hist=True, color=\"darkred\",  label=\"1\", ax=ax1)\n",
    "            ax1.set_title(\"{} input_rate: {:.2%}\".format(col, 1 - df[col].isna().sum(axis=0) / len(df)))\n",
    "\n",
    "            ax2 = fig.add_subplot(222)\n",
    "            if 0 < arg_df[col].min():\n",
    "                log_x_min = math.floor(np.log10(arg_df[col].min()))\n",
    "                log_x_max = math.ceil(np.log10(arg_df[col].max())) \n",
    "                sns.distplot(arg_df.loc[arg_df[compare_feature_name]==0, col].dropna(), bins=np.logspace(log_x_min, log_x_max, 50), hist=True, kde=False, norm_hist=True, color=\"steelblue\",  label=\"0\", ax=ax2)\n",
    "                sns.distplot(arg_df.loc[arg_df[compare_feature_name]==1, col].dropna(), bins=np.logspace(log_x_min, log_x_max, 50), hist=True, kde=False, norm_hist=True, color=\"darkred\", label=\"1\", ax=ax2)\n",
    "                ax2.set_xscale('log')\n",
    "            else:\n",
    "                log_x_min = math.floor(np.log10(arg_df[col].min() - arg_df[col].min() + 1))\n",
    "                log_x_max = math.ceil(np.log10(arg_df[col].max() - arg_df[col].min() + 1)) \n",
    "                sns.distplot(arg_df.loc[arg_df[compare_feature_name]==0, col].dropna() - arg_df[col].min() + 1, bins=np.logspace(log_x_min, log_x_max, 50), hist=True, kde=False, norm_hist=True, color=\"steelblue\",  label=\"0\", ax=ax2)\n",
    "                sns.distplot(arg_df.loc[arg_df[compare_feature_name]==1, col].dropna() - arg_df[col].min() + 1, bins=np.logspace(log_x_min, log_x_max, 50), hist=True, kde=False, norm_hist=True, color=\"darkred\", label=\"1\", ax=ax2)\n",
    "                ax2.set_xscale('log')\n",
    "                ax2.set_xticks([])\n",
    "\n",
    "            ax3 = fig.add_subplot(223, sharex=ax1)\n",
    "            sns.distplot(arg_df.loc[arg_df[compare_feature_name]==0, col].dropna(), hist=False, kde=True, norm_hist=False, color=\"steelblue\", label=\"0\", ax=ax3)\n",
    "            sns.distplot(arg_df.loc[arg_df[compare_feature_name]==1, col].dropna(), hist=False, kde=True, norm_hist=False, color=\"darkred\", label=\"1\", ax=ax3)\n",
    "\n",
    "            ax4 = fig.add_subplot(224, sharex=ax2)\n",
    "            if 0 < arg_df[col].min():\n",
    "                sns.distplot(arg_df.loc[arg_df[compare_feature_name]==0, col].dropna(), hist=False, kde=True, norm_hist=False, color=\"steelblue\", label=\"0\", ax=ax4)\n",
    "                sns.distplot(arg_df.loc[arg_df[compare_feature_name]==1, col].dropna(), hist=False, kde=True, norm_hist=False, color=\"darkred\", label=\"1\", ax=ax4)\n",
    "                ax4.set_xscale('log')\n",
    "            else:\n",
    "                sns.distplot(arg_df.loc[arg_df[compare_feature_name]==0, col].dropna() - arg_df[col].min() + 1, hist=False, kde=True, norm_hist=False, color=\"steelblue\", label=\"0\", ax=ax4)\n",
    "                sns.distplot(arg_df.loc[arg_df[compare_feature_name]==1, col].dropna() - arg_df[col].min() + 1, hist=False, kde=True, norm_hist=False, color=\"darkred\", label=\"1\", ax=ax4)\n",
    "                ax4.set_xscale('log')\n",
    "                ax4.set_xticks([])\n",
    "\n",
    "        plt.show()\n",
    "        pp.savefig(fig, forrmat='pdf')\n",
    "        fig.clf()\n",
    "    pp.close()"
   ]
  },
  {
   "cell_type": "code",
   "execution_count": null,
   "metadata": {
    "ExecuteTime": {
     "end_time": "2019-07-24T01:12:26.466747Z",
     "start_time": "2019-07-24T00:33:50.521483Z"
    },
    "scrolled": true
   },
   "outputs": [],
   "source": [
    "# plot_all_feature(df.loc[df[\"isFraud\"].isin([0, 1]), ], \"isFraud\")"
   ]
  },
  {
   "cell_type": "code",
   "execution_count": null,
   "metadata": {
    "ExecuteTime": {
     "end_time": "2019-07-24T01:59:02.725475Z",
     "start_time": "2019-07-24T01:12:26.471706Z"
    },
    "scrolled": true
   },
   "outputs": [],
   "source": [
    "# plot_all_feature(df, \"isTest\")"
   ]
  },
  {
   "cell_type": "markdown",
   "metadata": {},
   "source": [
    "[todo]\n",
    "* ~~na率をヒストグラムに表示~~\n",
    "* ~~スキップしたカテゴリ過多\"DeviceInfo\", \"P_emaildomain\", \"R_emaildomain\", \"addr1\"~~\n",
    "* ~~相対棒グラフでnaのtrain/test比も集計したい~~\n",
    "* ~~棒グラフに件数表示~~\n",
    "* ~~対数変換できないものは最小値>0に変換する~~"
   ]
  },
  {
   "cell_type": "code",
   "execution_count": null,
   "metadata": {
    "ExecuteTime": {
     "end_time": "2019-07-24T01:59:03.104435Z",
     "start_time": "2019-07-24T01:59:02.730434Z"
    },
    "code_folding": [
     0
    ],
    "scrolled": true
   },
   "outputs": [],
   "source": [
    "# pp = PdfPages(\"./output/plot_feature_compare_label.pdf\")\n",
    "\n",
    "# for col in df_train.columns:\n",
    "#     print(col + \" : \" + str(df_train[col].dtype))\n",
    "    \n",
    "#     if col in [\"TransactionID\", \"TransactionDT\"]:\n",
    "#         print(\" ※skip\")\n",
    "#         continue\n",
    "    \n",
    "#     unique_val_num = len(df_train[col].unique())\n",
    "        \n",
    "#     fig = plt.figure(figsize=(12, 9))\n",
    "    \n",
    "#     if (col in list_categorical_feature) | (df_train[col].dtype == object) | (unique_val_num < 10):\n",
    "#         ax1 = fig.add_subplot(221)\n",
    "# #             df_train.groupby([\"isFraud\"])[col].value_counts(dropna=False).unstack(fill_value=0).plot(kind='bar', stacked=True, ax=ax1)\n",
    "#         pd.crosstab(df_train[\"isFraud\"], df_train[col], dropna=True, normalize =False).plot(kind='bar', stacked=True, ax=ax1)\n",
    "#         ax1.set_title(\"{} input_rate: {:.2%}\".format(col, 1 - df[col].isna().sum(axis=0) / len(df)))\n",
    "#         ax1.set_xlabel(\"\")\n",
    "#         ax1.set_xticks([])\n",
    "#         ax1.set_ylim(ymax=len(df))\n",
    "\n",
    "#         ax2 = fig.add_subplot(222)\n",
    "# #             bars = df_train.groupby([col])[\"isFraud\"].value_counts(dropna=False).unstack(fill_value=0).plot(kind='bar', stacked=True, colormap='coolwarm', ax=ax2)\n",
    "#         bar = pd.crosstab(df_train[col], df_train[\"isFraud\"], dropna=True, normalize =False).plot(kind='bar', stacked=True, ax=ax2)\n",
    "#         ax2.set_xlabel(\"\")\n",
    "#         ax2.set_xticks([])\n",
    "#         ax2.set_ylim(ymax=len(df))\n",
    "#         dict_xy = {}\n",
    "#         for bar in bars.patches:\n",
    "#             if bar.get_x() not in dict_xy:\n",
    "#                 dict_xy[bar.get_x()] = bar.get_height()\n",
    "#             else:\n",
    "#                 dict_xy[bar.get_x()] = dict_xy.get(bar.get_x()) + bar.get_height()\n",
    "#         for dict_x, dict_y in dict_xy.items():\n",
    "#             ax2.annotate(int(dict_y), xy=(dict_x + bar.get_width() / 2, dict_y), xytext=(0, 3), textcoords='offset points', ha='center', va='bottom')\n",
    "\n",
    "#         ax3 = fig.add_subplot(223)\n",
    "# #             df_train.groupby([\"isFraud\"])[col].value_counts(normalize=True, dropna=False).unstack(fill_value=0).plot(kind='bar', stacked=True, ax=ax3)\n",
    "#         pd.crosstab(df_train[\"isFraud\"], df_train[col], dropna=True, normalize ='index').plot(kind='bar', stacked=True, ax=ax3)\n",
    "\n",
    "#         ax4 = fig.add_subplot(224)\n",
    "# #             df_train.groupby([col])[\"isFraud\"].value_counts(normalize=True, dropna=False).unstack(fill_value=0).plot(kind='bar', stacked=True, colormap='coolwarm', ax=ax4)\n",
    "#         pd.crosstab(df_train[col], df_train[\"isFraud\"], dropna=True, normalize ='index').plot(kind='bar', stacked=True, ax=ax4)\n",
    "\n",
    "#         plt.xticks(rotation=90)\n",
    "\n",
    "#     else:\n",
    "#         x_min = df_train[col].min()\n",
    "#         x_max = df_train[col].max()\n",
    "        \n",
    "#         if (0 <= x_min) & (x_max <= 1):\n",
    "#             adjust_bins = np.arange(0, 1, 0.05)\n",
    "#         elif unique_val_num < 50:\n",
    "#             adjust_bins = np.arange(x_min, x_max, 1)\n",
    "#         else:\n",
    "#             adjust_bins = np.arange(x_min, x_max, max(1, int(abs(x_max - x_min) / 50)))\n",
    "        \n",
    "#         ax1 = fig.add_subplot(221)\n",
    "#         sns.distplot(df_train.loc[df_train[\"isFraud\"]==0, col].dropna(), bins=adjust_bins, hist=True, kde=False, norm_hist=True, color=\"steelblue\", label=\"non Fraud\", ax=ax1)\n",
    "#         sns.distplot(df_train.loc[df_train[\"isFraud\"]==1, col].dropna(), bins=adjust_bins, hist=True, kde=False, norm_hist=True, color=\"darkred\",  label=\"Fraud\", ax=ax1)\n",
    "#         ax1.set_title(\"{} input_rate: {:.2%}\".format(col, df[col].isna().sum(axis=0) / len(df)))\n",
    "\n",
    "#         ax2 = fig.add_subplot(222)\n",
    "#         if 0 < df_train[col].min():\n",
    "#             log_x_min = math.floor(np.log10(df_train[col].min()))\n",
    "#             log_x_max = math.ceil(np.log10(df_train[col].max())) \n",
    "#             sns.distplot(df_train.loc[df_train[\"isFraud\"]==0, col].dropna(), bins=np.logspace(log_x_min, log_x_max, 50), hist=True, kde=False, norm_hist=True, color=\"steelblue\",  label=\"non Fraud\", ax=ax2)\n",
    "#             sns.distplot(df_train.loc[df_train[\"isFraud\"]==1, col].dropna(), bins=np.logspace(log_x_min, log_x_max, 50), hist=True, kde=False, norm_hist=True, color=\"darkred\", label=\"Fraud\", ax=ax2)\n",
    "#             ax2.set_xscale('log')\n",
    "\n",
    "#         ax3 = fig.add_subplot(223, sharex=ax1)\n",
    "#         sns.distplot(df_train.loc[df_train[\"isFraud\"]==0, col].dropna(), hist=False, kde=True, norm_hist=False, color=\"steelblue\", label=\"non Fraud\", ax=ax3)\n",
    "#         sns.distplot(df_train.loc[df_train[\"isFraud\"]==1, col].dropna(), hist=False, kde=True, norm_hist=False, color=\"darkred\", label=\"Fraud\", ax=ax3)\n",
    "\n",
    "#         ax4 = fig.add_subplot(224, sharex=ax2)\n",
    "#         if 0 < df_train[col].min():\n",
    "#             sns.distplot(df_train.loc[df_train[\"isFraud\"]==0, col].dropna(), hist=False, kde=True, norm_hist=False, color=\"steelblue\", label=\"non Fraud\", ax=ax4)\n",
    "#             sns.distplot(df_train.loc[df_train[\"isFraud\"]==1, col].dropna(), hist=False, kde=True, norm_hist=False, color=\"darkred\", label=\"Fraud\", ax=ax4)\n",
    "#             ax4.set_xscale('log')\n",
    "\n",
    "#     plt.show()\n",
    "#     pp.savefig(fig, forrmat='pdf')\n",
    "#     fig.clf()\n",
    "# pp.close()"
   ]
  },
  {
   "cell_type": "code",
   "execution_count": null,
   "metadata": {
    "ExecuteTime": {
     "end_time": "2019-07-24T01:59:03.236086Z",
     "start_time": "2019-07-24T01:59:03.108425Z"
    },
    "code_folding": [
     0
    ],
    "scrolled": true
   },
   "outputs": [],
   "source": [
    "# pp = PdfPages(\"./output/plot_feature_compare_train_test.pdf\")\n",
    "\n",
    "# for col in df.columns:\n",
    "#     print(col + \" : \" + str(df[col].dtype))\n",
    "    \n",
    "#     if col in [\"TransactionID\", \"TransactionDT\"]:\n",
    "#         print(\" ※skip\")\n",
    "#         continue\n",
    "    \n",
    "#     unique_val_num = len(df[col].unique())\n",
    "        \n",
    "#     fig = plt.figure(figsize=(12, 9))\n",
    "    \n",
    "#     if (col in list_categorical_feature) | (df[col].dtype == object) | (unique_val_num < 10):\n",
    "\n",
    "#         ax1 = fig.add_subplot(221)\n",
    "# #         df.groupby([\"isTest\"])[col].value_counts(dropna=False).unstack(fill_value=0).plot(kind='bar', stacked=True, ax=ax1)\n",
    "#         pd.crosstab(df_train[\"isTest\"], df_train[col], dropna=True, normalize =False).plot(kind='bar', stacked=True, ax=ax1)\n",
    "#         ax1.set_title(\"{} input_rate: {:.2%}\".format(col, df[col].isna().sum(axis=0) / len(df)))\n",
    "\n",
    "#         ax2 = fig.add_subplot(222)\n",
    "# #         bars = df.groupby([col])[\"isTest\"].value_counts(dropna=False).unstack(fill_value=0).plot(kind='bar', stacked=True, ax=ax2)\n",
    "#         bars = pd.crosstab(df_train[col], df_train[\"isTest\"], dropna=True, normalize =False).plot(kind='bar', stacked=True, ax=ax2)\n",
    "#         dict_xy = {}\n",
    "#         for bar in bars.patches:\n",
    "#             if bar.get_x() not in dict_xy:\n",
    "#                 dict_xy[bar.get_x()] = bar.get_height()\n",
    "#             else:\n",
    "#                 dict_xy[bar.get_x()] = dict_xy.get(bar.get_x()) + bar.get_height()\n",
    "#         for dict_x, dict_y in dict_xy.items():\n",
    "#             ax2.annotate(int(dict_y), xy=(dict_x + bar.get_width() / 2, dict_y), xytext=(0, 3), textcoords='offset points', ha='center', va='bottom')\n",
    "\n",
    "#         ax3 = fig.add_subplot(223)\n",
    "# #         df.groupby([\"isTest\"])[col].value_counts(normalize=True, dropna=False).unstack(fill_value=0).plot(kind='bar', stacked=True, ax=ax3)\n",
    "#         pd.crosstab(df_train[\"isTest\"], df_train[col], dropna=True, normalize =True).plot(kind='bar', stacked=True, ax=ax3)\n",
    "\n",
    "#         ax4 = fig.add_subplot(224)\n",
    "# #         df.groupby([col])[\"isTest\"].value_counts(normalize=True, dropna=False).unstack(fill_value=0).plot(kind='bar', stacked=True, ax=ax4)\n",
    "#         pd.crosstab(df_train[col], df_train[\"isTest\"], dropna=True, normalize =True).plot(kind='bar', stacked=True, ax=ax4)\n",
    "#         plt.xticks(rotation=90)\n",
    "\n",
    "#     else:\n",
    "#         x_min = df[col].min()\n",
    "#         x_max = df[col].max()\n",
    "       \n",
    "#         if (0 <= x_min) & (x_max <= 1):\n",
    "#             adjust_bins = np.arange(0, 1, 0.05)\n",
    "#         elif unique_val_num < 50:\n",
    "#             adjust_bins = np.arange(x_min, x_max, 1)\n",
    "#         else:\n",
    "#             adjust_bins = np.arange(x_min, x_max, max(1, int(abs(x_max - x_min) / 50)))\n",
    "        \n",
    "#         ax1 = fig.add_subplot(221)\n",
    "#         sns.distplot(df.loc[df[\"isTest\"]==0, col].dropna(), bins=adjust_bins, hist=True, kde=False, norm_hist=True, color=\"c\", label=\"train\", ax=ax1)\n",
    "#         sns.distplot(df.loc[df[\"isTest\"]==1, col].dropna(), bins=adjust_bins, hist=True, kde=False, norm_hist=True, color=\"gold\", label=\"test\", ax=ax1)\n",
    "#         ax1.set_title(\"{} input_rate: {:.2%}\".format(col, df[col].isna().sum(axis=0) / len(df)))\n",
    "        \n",
    "#         ax2 = fig.add_subplot(222)\n",
    "#         if 0 < df_train[col].min():\n",
    "#             log_x_min = math.floor(np.log10(df_train[col].min()))\n",
    "#             log_x_max = math.ceil(np.log10(df_train[col].max())) \n",
    "#             sns.distplot(df.loc[df[\"isTest\"]==0, col].dropna(), bins=np.logspace(log_x_min, log_x_max, 50), hist=True, kde=False, norm_hist=True, color=\"c\", label=\"train\", ax=ax2)\n",
    "#             sns.distplot(df.loc[df[\"isTest\"]==1, col].dropna(), bins=np.logspace(log_x_min, log_x_max, 50), hist=True, kde=False, norm_hist=True, color=\"gold\", label=\"test\", ax=ax2)\n",
    "#             ax2.set_xscale('log')\n",
    "        \n",
    "#         ax3 = fig.add_subplot(223, sharex=ax1)\n",
    "#         sns.distplot(df.loc[df[\"isTest\"]==0, col].dropna(), bins=adjust_bins, hist=False, kde=True, norm_hist=False, color=\"c\", label=\"train\", ax=ax3)\n",
    "#         sns.distplot(df.loc[df[\"isTest\"]==1, col].dropna(), bins=adjust_bins, hist=False, kde=True, norm_hist=False, color=\"gold\", label=\"test\", ax=ax3)\n",
    "        \n",
    "#         ax4 = fig.add_subplot(224, sharex=ax2)\n",
    "#         if 0 < df_train[col].min():\n",
    "#             sns.distplot(df.loc[df[\"isTest\"]==0, col].dropna(), bins=np.logspace(0, 3, 50), hist=False, kde=True, norm_hist=False, color=\"c\", label=\"train\", ax=ax4)\n",
    "#             sns.distplot(df.loc[df[\"isTest\"]==1, col].dropna(), bins=np.logspace(0, 3, 50), hist=False, kde=True, norm_hist=False, color=\"gold\", label=\"test\", ax=ax4)\n",
    "#             ax4.set_xscale('log')\n",
    "\n",
    "#     plt.show()\n",
    "#     pp.savefig(fig, forrmat='pdf')\n",
    "#     fig.clf()\n",
    "# pp.close()"
   ]
  },
  {
   "cell_type": "code",
   "execution_count": null,
   "metadata": {
    "ExecuteTime": {
     "end_time": "2019-07-24T05:19:49.583699Z",
     "start_time": "2019-07-24T01:59:03.239074Z"
    }
   },
   "outputs": [],
   "source": [
    "# report = pdp.ProfileReport(df)\n",
    "# report.to_file(outputfile=\"./output/01-001_data_overview.html\")\n",
    "# report"
   ]
  },
  {
   "cell_type": "markdown",
   "metadata": {},
   "source": [
    "# investigate"
   ]
  },
  {
   "cell_type": "markdown",
   "metadata": {},
   "source": [
    "## 入力率（train/test × label）"
   ]
  },
  {
   "cell_type": "code",
   "execution_count": null,
   "metadata": {
    "ExecuteTime": {
     "end_time": "2019-07-25T01:18:13.547827Z",
     "start_time": "2019-07-25T01:18:13.387260Z"
    }
   },
   "outputs": [],
   "source": [
    "df_input_rate = pd.DataFrame([])"
   ]
  },
  {
   "cell_type": "code",
   "execution_count": null,
   "metadata": {
    "ExecuteTime": {
     "end_time": "2019-07-24T05:20:18.300232Z",
     "start_time": "2019-07-24T05:20:12.203086Z"
    },
    "scrolled": true
   },
   "outputs": [],
   "source": [
    "df_na = df.copy()\n",
    "df_na = df_na.isna()\n",
    "df_na[\"isTest\"] = df[\"isTest\"]\n",
    "df_na[\"isFraud\"] = df[\"isFraud\"]"
   ]
  },
  {
   "cell_type": "code",
   "execution_count": null,
   "metadata": {
    "ExecuteTime": {
     "end_time": "2019-07-25T01:19:45.570762Z",
     "start_time": "2019-07-25T01:19:36.099136Z"
    },
    "scrolled": true
   },
   "outputs": [],
   "source": [
    "df_input_rate[\"all\"] = 1 - df.isna().sum(axis=0) / len(df)"
   ]
  },
  {
   "cell_type": "code",
   "execution_count": null,
   "metadata": {
    "ExecuteTime": {
     "end_time": "2019-07-25T01:30:52.504158Z",
     "start_time": "2019-07-25T01:30:46.336822Z"
    },
    "scrolled": true
   },
   "outputs": [],
   "source": [
    "df_input_rate[\"train_and_non_fraud\"] = 1 - df.query('isTest == 0 & isFraud == 0').isna().sum(axis=0) / len(df.query('isTest == 0 & isFraud == 0'))"
   ]
  },
  {
   "cell_type": "code",
   "execution_count": null,
   "metadata": {
    "ExecuteTime": {
     "end_time": "2019-07-25T01:30:30.321331Z",
     "start_time": "2019-07-25T01:30:29.724938Z"
    },
    "scrolled": true
   },
   "outputs": [],
   "source": [
    "df_input_rate[\"train_and_fraud\"] = 1 - df.query('isTest == 0 & isFraud == 1').isna().sum(axis=0) / len(df.query('isTest == 0 & isFraud == 1'))"
   ]
  },
  {
   "cell_type": "code",
   "execution_count": null,
   "metadata": {
    "ExecuteTime": {
     "end_time": "2019-07-25T01:31:06.492971Z",
     "start_time": "2019-07-25T01:30:59.782163Z"
    },
    "scrolled": true
   },
   "outputs": [],
   "source": [
    "df_input_rate[\"test\"] = 1 - df.query('isTest == 1').isna().sum(axis=0) / len(df.query('isTest == 1'))"
   ]
  },
  {
   "cell_type": "code",
   "execution_count": null,
   "metadata": {
    "ExecuteTime": {
     "end_time": "2019-07-25T01:42:56.152549Z",
     "start_time": "2019-07-25T01:42:53.408286Z"
    },
    "scrolled": true
   },
   "outputs": [],
   "source": [
    "plt.figure(figsize=(5, 40))\n",
    "sns.heatmap(df_input_rate, vmin=0, vmax=1, cmap='Reds')"
   ]
  },
  {
   "cell_type": "markdown",
   "metadata": {},
   "source": [
    "入力率が高いとfraud？<br>\n",
    "でもデータ単位の入力率では傾向違うから特定の項目群の入力率に着目すべき？"
   ]
  },
  {
   "cell_type": "code",
   "execution_count": null,
   "metadata": {
    "ExecuteTime": {
     "end_time": "2019-07-25T02:28:04.619242Z",
     "start_time": "2019-07-25T02:27:52.005229Z"
    }
   },
   "outputs": [],
   "source": [
    "fig = plt.figure()\n",
    "ax1 = fig.add_subplot(211)\n",
    "sns.boxenplot(x=\"input_rate\", data=df.query('isTest == 0 & isFraud == 0'), ax=ax1)\n",
    "ax1.set_xlabel(\"\")\n",
    "ax1.set_xlim([0, 1])\n",
    "ax1.set_ylabel(\"non Fraud\")\n",
    "\n",
    "ax2 = fig.add_subplot(212, sharex=ax1)\n",
    "sns.boxenplot(x=\"input_rate\", data=df.query('isTest == 0 & isFraud == 1'), ax=ax2)\n",
    "ax2.set_ylabel(\"Fraud\")"
   ]
  },
  {
   "cell_type": "code",
   "execution_count": null,
   "metadata": {
    "ExecuteTime": {
     "end_time": "2019-07-25T01:29:42.785270Z",
     "start_time": "2019-07-25T01:29:41.397958Z"
    },
    "scrolled": true
   },
   "outputs": [],
   "source": [
    "df.query('isTest == 0 & isFraud == 1')"
   ]
  },
  {
   "cell_type": "code",
   "execution_count": null,
   "metadata": {
    "ExecuteTime": {
     "end_time": "2019-07-24T05:20:19.951812Z",
     "start_time": "2019-07-24T05:20:18.328229Z"
    },
    "scrolled": false
   },
   "outputs": [],
   "source": [
    "pd.crosstab(df_na[\"M5\"], [df_na[\"isTest\"], df_na[\"isFraud\"]], dropna=False)"
   ]
  },
  {
   "cell_type": "markdown",
   "metadata": {},
   "source": [
    "## 系統別の相関・散布図"
   ]
  },
  {
   "cell_type": "markdown",
   "metadata": {},
   "source": [
    "### \"C\" feature"
   ]
  },
  {
   "cell_type": "code",
   "execution_count": null,
   "metadata": {
    "ExecuteTime": {
     "end_time": "2019-07-24T05:20:20.232793Z",
     "start_time": "2019-07-24T05:20:19.956415Z"
    }
   },
   "outputs": [],
   "source": [
    "list_col_startwith_C = [col for col in df.columns if col.startswith(\"C\")]\n",
    "list_col_startwith_C"
   ]
  },
  {
   "cell_type": "code",
   "execution_count": null,
   "metadata": {
    "ExecuteTime": {
     "end_time": "2019-07-24T05:20:24.458333Z",
     "start_time": "2019-07-24T05:20:20.237539Z"
    }
   },
   "outputs": [],
   "source": [
    "msno.heatmap(df[list_col_startwith_C])"
   ]
  },
  {
   "cell_type": "code",
   "execution_count": null,
   "metadata": {
    "ExecuteTime": {
     "end_time": "2019-07-24T05:20:27.833270Z",
     "start_time": "2019-07-24T05:20:24.462444Z"
    },
    "scrolled": true
   },
   "outputs": [],
   "source": [
    "plt.figure(figsize=(10, 7.5))\n",
    "sns.heatmap(df[list_col_startwith_C].corr(), cmap='Reds', annot=True)"
   ]
  },
  {
   "cell_type": "code",
   "execution_count": null,
   "metadata": {
    "ExecuteTime": {
     "end_time": "2019-07-24T05:22:15.992110Z",
     "start_time": "2019-07-24T05:20:27.837084Z"
    },
    "scrolled": true
   },
   "outputs": [],
   "source": [
    "sns.pairplot(df[1:100][list_col_startwith_C])"
   ]
  },
  {
   "cell_type": "markdown",
   "metadata": {},
   "source": [
    "### \"D\" feature"
   ]
  },
  {
   "cell_type": "code",
   "execution_count": null,
   "metadata": {
    "ExecuteTime": {
     "end_time": "2019-07-24T05:22:16.328304Z",
     "start_time": "2019-07-24T05:22:15.994106Z"
    }
   },
   "outputs": [],
   "source": [
    "list_col_startwith_D = [col for col in df.columns if col.startswith(\"D\")]\n",
    "list_col_startwith_D.remove(\"DeviceInfo\")\n",
    "list_col_startwith_D.remove(\"DeviceType\")\n",
    "list_col_startwith_D"
   ]
  },
  {
   "cell_type": "code",
   "execution_count": null,
   "metadata": {
    "ExecuteTime": {
     "end_time": "2019-07-24T05:22:20.250179Z",
     "start_time": "2019-07-24T05:22:16.331843Z"
    }
   },
   "outputs": [],
   "source": [
    "msno.heatmap(df[list_col_startwith_D])"
   ]
  },
  {
   "cell_type": "code",
   "execution_count": null,
   "metadata": {
    "ExecuteTime": {
     "end_time": "2019-07-24T05:22:20.537262Z",
     "start_time": "2019-07-24T05:22:20.254298Z"
    }
   },
   "outputs": [],
   "source": [
    "df[[\"D11\", \"D13\"]]"
   ]
  },
  {
   "cell_type": "code",
   "execution_count": null,
   "metadata": {
    "ExecuteTime": {
     "end_time": "2019-07-25T00:01:32.909735Z",
     "start_time": "2019-07-25T00:01:31.707948Z"
    }
   },
   "outputs": [],
   "source": [
    "pd.crosstab(df[\"D11\"].isna(), df[\"D13\"].isna())"
   ]
  },
  {
   "cell_type": "code",
   "execution_count": null,
   "metadata": {
    "ExecuteTime": {
     "end_time": "2019-07-24T05:22:25.488280Z",
     "start_time": "2019-07-24T05:22:21.053204Z"
    },
    "scrolled": true
   },
   "outputs": [],
   "source": [
    "plt.figure(figsize=(10, 7.5))\n",
    "sns.heatmap(df[list_col_startwith_D].corr(), cmap='Reds', annot=True)"
   ]
  },
  {
   "cell_type": "code",
   "execution_count": null,
   "metadata": {
    "ExecuteTime": {
     "end_time": "2019-07-25T02:32:41.295414Z",
     "start_time": "2019-07-25T02:30:48.284627Z"
    },
    "scrolled": true
   },
   "outputs": [],
   "source": [
    "sns.pairplot(df[1:100][list_col_startwith_D])"
   ]
  },
  {
   "cell_type": "markdown",
   "metadata": {},
   "source": [
    "### \"M\" feature"
   ]
  },
  {
   "cell_type": "code",
   "execution_count": null,
   "metadata": {
    "ExecuteTime": {
     "end_time": "2019-07-24T05:22:26.007918Z",
     "start_time": "2019-07-24T05:22:25.735514Z"
    }
   },
   "outputs": [],
   "source": [
    "list_col_startwith_M = [col for col in df.columns if col.startswith(\"M\")]\n",
    "list_col_startwith_M"
   ]
  },
  {
   "cell_type": "code",
   "execution_count": null,
   "metadata": {
    "ExecuteTime": {
     "end_time": "2019-07-25T00:29:46.205481Z",
     "start_time": "2019-07-25T00:29:44.619721Z"
    }
   },
   "outputs": [],
   "source": [
    "msno.heatmap(df[list_col_startwith_M])"
   ]
  },
  {
   "cell_type": "code",
   "execution_count": null,
   "metadata": {
    "ExecuteTime": {
     "end_time": "2019-07-25T00:35:51.193381Z",
     "start_time": "2019-07-25T00:35:50.727954Z"
    },
    "scrolled": false
   },
   "outputs": [],
   "source": [
    "plt.figure(figsize=(10, 7.5))\n",
    "sns.heatmap(df[list_col_startwith_M].corr(), cmap='Reds', annot=True)"
   ]
  },
  {
   "cell_type": "code",
   "execution_count": null,
   "metadata": {
    "ExecuteTime": {
     "end_time": "2019-07-25T07:41:46.566387Z",
     "start_time": "2019-07-25T07:40:06.454Z"
    }
   },
   "outputs": [],
   "source": [
    "df[[\"D11\", \"D13\"]]"
   ]
  },
  {
   "cell_type": "code",
   "execution_count": null,
   "metadata": {
    "ExecuteTime": {
     "end_time": "2019-07-25T03:53:14.536474Z",
     "start_time": "2019-07-25T03:43:16.533Z"
    },
    "scrolled": true
   },
   "outputs": [],
   "source": [
    "sns.pairplot(df[1:100][list_col_startwith_M])"
   ]
  },
  {
   "cell_type": "markdown",
   "metadata": {},
   "source": [
    "### \"V\" feature"
   ]
  },
  {
   "cell_type": "code",
   "execution_count": null,
   "metadata": {
    "ExecuteTime": {
     "end_time": "2019-07-24T05:22:26.007918Z",
     "start_time": "2019-07-24T05:22:25.735514Z"
    }
   },
   "outputs": [],
   "source": [
    "list_col_startwith_V = [col for col in df.columns if col.startswith(\"V\")]\n",
    "list_col_startwith_V"
   ]
  },
  {
   "cell_type": "code",
   "execution_count": null,
   "metadata": {
    "ExecuteTime": {
     "end_time": "2019-07-25T00:49:19.721201Z",
     "start_time": "2019-07-25T00:41:59.770550Z"
    }
   },
   "outputs": [],
   "source": [
    "msno.heatmap(df[list_col_startwith_V])"
   ]
  },
  {
   "cell_type": "code",
   "execution_count": null,
   "metadata": {
    "ExecuteTime": {
     "end_time": "2019-07-25T01:06:36.475013Z",
     "start_time": "2019-07-25T00:51:47.899462Z"
    },
    "scrolled": false
   },
   "outputs": [],
   "source": [
    "plt.figure(figsize=(10, 7.5))\n",
    "sns.heatmap(df[list_col_startwith_V].corr(), cmap='Reds', annot=True)"
   ]
  },
  {
   "cell_type": "code",
   "execution_count": null,
   "metadata": {
    "ExecuteTime": {
     "end_time": "2019-07-25T03:53:14.536474Z",
     "start_time": "2019-07-25T03:43:16.533Z"
    },
    "scrolled": true
   },
   "outputs": [],
   "source": [
    "# sns.pairplot(df[1:100][list_col_startwith_V])"
   ]
  },
  {
   "cell_type": "markdown",
   "metadata": {},
   "source": [
    "### \"card\" feature"
   ]
  },
  {
   "cell_type": "code",
   "execution_count": null,
   "metadata": {
    "ExecuteTime": {
     "end_time": "2019-07-24T05:22:26.291380Z",
     "start_time": "2019-07-24T05:22:26.013882Z"
    }
   },
   "outputs": [],
   "source": [
    "list_col_startwith_card = [col for col in df.columns if col.startswith(\"card\")]\n",
    "list_col_startwith_card"
   ]
  },
  {
   "cell_type": "code",
   "execution_count": null,
   "metadata": {
    "ExecuteTime": {
     "end_time": "2019-07-25T00:49:26.499572Z",
     "start_time": "2019-07-25T00:49:25.720684Z"
    }
   },
   "outputs": [],
   "source": [
    "msno.heatmap(df[list_col_startwith_card])"
   ]
  },
  {
   "cell_type": "code",
   "execution_count": null,
   "metadata": {
    "ExecuteTime": {
     "end_time": "2019-07-25T01:06:43.541417Z",
     "start_time": "2019-07-25T01:06:43.303018Z"
    },
    "scrolled": true
   },
   "outputs": [],
   "source": [
    "plt.figure(figsize=(10, 7.5))\n",
    "sns.heatmap(df[list_col_startwith_card].corr(), cmap='Reds', annot=True)"
   ]
  },
  {
   "cell_type": "code",
   "execution_count": null,
   "metadata": {
    "ExecuteTime": {
     "end_time": "2019-07-25T07:41:46.566387Z",
     "start_time": "2019-07-25T07:40:06.454Z"
    }
   },
   "outputs": [],
   "source": [
    "df[[\"M4\", \"M7\"]]"
   ]
  },
  {
   "cell_type": "markdown",
   "metadata": {},
   "source": [
    "### \"id_\" feature"
   ]
  },
  {
   "cell_type": "code",
   "execution_count": null,
   "metadata": {
    "ExecuteTime": {
     "end_time": "2019-07-24T05:22:26.528169Z",
     "start_time": "2019-07-24T05:22:26.294598Z"
    },
    "scrolled": true
   },
   "outputs": [],
   "source": [
    "list_col_startwith_id = [col for col in df.columns if col.startswith(\"id_\")]\n",
    "list_col_startwith_id"
   ]
  },
  {
   "cell_type": "code",
   "execution_count": null,
   "metadata": {
    "ExecuteTime": {
     "end_time": "2019-07-25T00:49:26.499572Z",
     "start_time": "2019-07-25T00:49:25.720684Z"
    }
   },
   "outputs": [],
   "source": [
    "msno.heatmap(df[list_col_startwith_id])"
   ]
  },
  {
   "cell_type": "code",
   "execution_count": null,
   "metadata": {
    "ExecuteTime": {
     "end_time": "2019-07-24T05:22:29.197358Z",
     "start_time": "2019-07-24T05:22:26.532684Z"
    },
    "scrolled": true
   },
   "outputs": [],
   "source": [
    "plt.figure(figsize=(10, 7.5))\n",
    "sns.heatmap(df[list_col_startwith_id].corr(), cmap='Reds', annot=True)"
   ]
  },
  {
   "cell_type": "markdown",
   "metadata": {},
   "source": [
    "### other feature"
   ]
  },
  {
   "cell_type": "code",
   "execution_count": null,
   "metadata": {
    "ExecuteTime": {
     "end_time": "2019-07-24T05:22:39.162165Z",
     "start_time": "2019-07-24T05:22:29.201008Z"
    }
   },
   "outputs": [],
   "source": [
    "list_col_numeric = [col for col in df.select_dtypes('number')]\n",
    "list_col_numeric"
   ]
  },
  {
   "cell_type": "markdown",
   "metadata": {},
   "source": [
    "## TransactionAmtと相関が強い項目の特定"
   ]
  },
  {
   "cell_type": "code",
   "execution_count": null,
   "metadata": {
    "ExecuteTime": {
     "end_time": "2019-07-24T05:23:17.140077Z",
     "start_time": "2019-07-24T05:22:39.168754Z"
    },
    "scrolled": true
   },
   "outputs": [],
   "source": [
    "corr_tranamt_vs_num = df[list_col_numeric].corrwith(df[\"TransactionAmt\"])\n",
    "corr_tranamt_vs_num.sort_values()"
   ]
  },
  {
   "cell_type": "code",
   "execution_count": null,
   "metadata": {
    "ExecuteTime": {
     "end_time": "2019-07-24T05:26:24.947945Z",
     "start_time": "2019-07-24T05:23:17.160356Z"
    },
    "scrolled": true
   },
   "outputs": [],
   "source": [
    "sns.lmplot(x=\"TransactionAmt\", y=\"V51\", data=df[[\"TransactionAmt\", \"V51\"]].dropna())"
   ]
  },
  {
   "cell_type": "code",
   "execution_count": null,
   "metadata": {
    "ExecuteTime": {
     "end_time": "2019-07-24T05:27:04.358014Z",
     "start_time": "2019-07-24T05:26:24.952533Z"
    },
    "scrolled": true
   },
   "outputs": [],
   "source": [
    "corr_tranamt_vs_num = df[list_col_numeric].corrwith(np.log10(df[\"TransactionAmt\"]))\n",
    "corr_tranamt_vs_num.sort_values()"
   ]
  },
  {
   "cell_type": "code",
   "execution_count": null,
   "metadata": {
    "ExecuteTime": {
     "end_time": "2019-07-24T05:27:14.030822Z",
     "start_time": "2019-07-24T05:27:04.378683Z"
    },
    "scrolled": true
   },
   "outputs": [],
   "source": [
    "sns.scatterplot(x=np.log10(df[\"TransactionAmt\"]), y=df[\"id_02\"])"
   ]
  },
  {
   "cell_type": "code",
   "execution_count": null,
   "metadata": {
    "ExecuteTime": {
     "end_time": "2019-07-25T03:08:57.192961Z",
     "start_time": "2019-07-25T03:08:56.936157Z"
    },
    "scrolled": true
   },
   "outputs": [],
   "source": [
    "list_col_category = [col for col in df.columns if col not in list_col_numeric]\n",
    "list_col_category"
   ]
  },
  {
   "cell_type": "code",
   "execution_count": null,
   "metadata": {
    "ExecuteTime": {
     "end_time": "2019-07-25T08:46:56.580085Z",
     "start_time": "2019-07-25T08:46:56.094236Z"
    }
   },
   "outputs": [],
   "source": [
    "import statsmodels.api as sm\n",
    "from statsmodels.formula.api import ols\n",
    "moore_lm = ols('isFraud ~ DeviceType', data=df).fit()\n",
    "table = sm.stats.anova_lm(moore_lm, typ=1)\n",
    "table"
   ]
  },
  {
   "cell_type": "code",
   "execution_count": null,
   "metadata": {
    "ExecuteTime": {
     "end_time": "2019-07-25T09:09:35.762521Z",
     "start_time": "2019-07-25T09:09:35.434414Z"
    }
   },
   "outputs": [],
   "source": [
    "table[\"PR(>F)\"][\"DeviceType\"]"
   ]
  },
  {
   "cell_type": "code",
   "execution_count": null,
   "metadata": {
    "ExecuteTime": {
     "end_time": "2019-07-25T15:59:09.587795Z",
     "start_time": "2019-07-25T15:58:46.722578Z"
    },
    "scrolled": true
   },
   "outputs": [],
   "source": [
    "for col in list_col_category:\n",
    "#     print(col)\n",
    "    if 60 < len(df[col].unique()):\n",
    "        print(col)\n",
    "        print(\" ※skip\")\n",
    "        continue\n",
    "    moore_lm = ols('TransactionAmt ~ {}'.format(col), data=df).fit()\n",
    "    table = sm.stats.anova_lm(moore_lm, typ=1)\n",
    "    \n",
    "    if 0.05 <= table[\"PR(>F)\"][col]:\n",
    "        print(col)\n",
    "        print(table[\"PR(>F)\"][col])"
   ]
  },
  {
   "cell_type": "code",
   "execution_count": null,
   "metadata": {
    "ExecuteTime": {
     "end_time": "2019-07-25T09:15:24.232468Z",
     "start_time": "2019-07-25T09:15:22.268726Z"
    },
    "scrolled": true
   },
   "outputs": [],
   "source": [
    "sns.boxplot(x=\"TransactionAmt\", y=\"M1\", data=df[[\"TransactionAmt\", \"M1\"]].dropna())"
   ]
  },
  {
   "cell_type": "code",
   "execution_count": null,
   "metadata": {
    "ExecuteTime": {
     "end_time": "2019-07-25T16:00:44.280802Z",
     "start_time": "2019-07-25T16:00:42.993297Z"
    },
    "scrolled": true
   },
   "outputs": [],
   "source": [
    "sns.boxplot(x=\"TransactionAmt\", y=\"id_23\", data=df[[\"TransactionAmt\", \"id_23\"]].dropna())"
   ]
  },
  {
   "cell_type": "code",
   "execution_count": null,
   "metadata": {
    "ExecuteTime": {
     "end_time": "2019-07-25T09:18:04.678058Z",
     "start_time": "2019-07-25T09:18:04.052194Z"
    },
    "scrolled": true
   },
   "outputs": [],
   "source": [
    "sns.boxplot(x=\"TransactionAmt\", y=\"id_27\", data=df[[\"TransactionAmt\", \"id_27\"]].dropna())"
   ]
  },
  {
   "cell_type": "code",
   "execution_count": null,
   "metadata": {
    "ExecuteTime": {
     "end_time": "2019-07-25T07:59:39.233281Z",
     "start_time": "2019-07-25T07:46:26.850717Z"
    }
   },
   "outputs": [],
   "source": [
    "# df_corr_re = pd.DataFrame()\n",
    "# series_corr = pd.Series()\n",
    "\n",
    "# for col in list_col_category:\n",
    "#     corr = common.correlation_ratio(df[[\"TransactionAmt\", col]])\n",
    "#     series_corr[col] = corr\n",
    "# df_corr_re[\"TransactionAmt\"] = series_corr\n",
    "# df_corr_re"
   ]
  },
  {
   "cell_type": "code",
   "execution_count": null,
   "metadata": {
    "ExecuteTime": {
     "end_time": "2019-07-25T03:53:14.524520Z",
     "start_time": "2019-07-25T03:27:19.366Z"
    }
   },
   "outputs": [],
   "source": [
    "# sns.set()\n",
    "# plt.figure(figsize=(25,5))\n",
    "# sns.heatmap(df_corr_re.T, vmin=0, vmax=1, square=True, linewidths=0.5, annot=True, cmap='Reds')"
   ]
  },
  {
   "cell_type": "markdown",
   "metadata": {},
   "source": [
    "# etc"
   ]
  },
  {
   "cell_type": "code",
   "execution_count": null,
   "metadata": {
    "ExecuteTime": {
     "end_time": "2019-07-24T05:27:14.951127Z",
     "start_time": "2019-07-24T05:27:14.035628Z"
    }
   },
   "outputs": [],
   "source": [
    "# START_DATE = '2017-12-01'\n",
    "# startdate = datetime.datetime.strptime(START_DATE, '%Y-%m-%d')\n",
    "\n",
    "# train_transaction['TransactionDT'] = train_transaction['TransactionDT'].apply(lambda x: (startdate + datetime.timedelta(seconds = x)))\n",
    "# train_transaction['trans_yymm'] = train_transaction['TransactionDT'].map(lambda x: x.replace(day=1))\n",
    "# train_transaction['trans_date'] = train_transaction['TransactionDT'].map(lambda x: x.date())"
   ]
  },
  {
   "cell_type": "code",
   "execution_count": null,
   "metadata": {
    "ExecuteTime": {
     "end_time": "2019-07-24T05:27:14.996624Z",
     "start_time": "2019-07-24T00:07:26.841Z"
    }
   },
   "outputs": [],
   "source": [
    "# cat_names = [\n",
    "#               # Transaction\n",
    "#               'ProductCD', 'addr1', 'addr2', 'P_emaildomain', 'R_emaildomain',\n",
    "#               *[f'card{i}' for i in range(1,7)],\n",
    "#               *[f'M{i}' for i in range(1,10)],\n",
    "#               # Identity\n",
    "#               'DeviceType', 'DeviceInfo', \n",
    "#                *[f'id_{i}' for i in range(12,39)],\n",
    "#              ]"
   ]
  }
 ],
 "metadata": {
  "kernelspec": {
   "display_name": "Python 3",
   "language": "python",
   "name": "python3"
  },
  "language_info": {
   "codemirror_mode": {
    "name": "ipython",
    "version": 3
   },
   "file_extension": ".py",
   "mimetype": "text/x-python",
   "name": "python",
   "nbconvert_exporter": "python",
   "pygments_lexer": "ipython3",
   "version": "3.7.4"
  },
  "toc": {
   "base_numbering": 1,
   "nav_menu": {},
   "number_sections": true,
   "sideBar": true,
   "skip_h1_title": false,
   "title_cell": "Table of Contents",
   "title_sidebar": "Contents",
   "toc_cell": false,
   "toc_position": {
    "height": "calc(100% - 180px)",
    "left": "10px",
    "top": "150px",
    "width": "216.438px"
   },
   "toc_section_display": true,
   "toc_window_display": true
  },
  "varInspector": {
   "cols": {
    "lenName": 16,
    "lenType": 16,
    "lenVar": 40
   },
   "kernels_config": {
    "python": {
     "delete_cmd_postfix": "",
     "delete_cmd_prefix": "del ",
     "library": "var_list.py",
     "varRefreshCmd": "print(var_dic_list())"
    },
    "r": {
     "delete_cmd_postfix": ") ",
     "delete_cmd_prefix": "rm(",
     "library": "var_list.r",
     "varRefreshCmd": "cat(var_dic_list()) "
    }
   },
   "types_to_exclude": [
    "module",
    "function",
    "builtin_function_or_method",
    "instance",
    "_Feature"
   ],
   "window_display": false
  }
 },
 "nbformat": 4,
 "nbformat_minor": 1
}
